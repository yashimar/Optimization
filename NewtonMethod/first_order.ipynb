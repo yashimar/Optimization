{
 "cells": [
  {
   "cell_type": "code",
   "execution_count": 1,
   "metadata": {
    "ExecuteTime": {
     "end_time": "2020-04-28T05:51:18.775778Z",
     "start_time": "2020-04-28T05:51:18.409458Z"
    }
   },
   "outputs": [],
   "source": [
    "import torch\n",
    "from torch.autograd import Variable"
   ]
  },
  {
   "cell_type": "code",
   "execution_count": 2,
   "metadata": {
    "ExecuteTime": {
     "end_time": "2020-04-28T05:51:19.392811Z",
     "start_time": "2020-04-28T05:51:19.354603Z"
    }
   },
   "outputs": [
    {
     "data": {
      "text/plain": [
       "tensor([[10.]])"
      ]
     },
     "execution_count": 2,
     "metadata": {},
     "output_type": "execute_result"
    }
   ],
   "source": [
    "ini_x = 5*torch.ones(1,1)\n",
    "x = Variable(ini_x, requires_grad=True)\n",
    "\n",
    "f = x*x\n",
    "g = x*x\n",
    "f.backward()\n",
    "x.grad.zero_()\n",
    "g.backward()\n",
    "x.grad"
   ]
  },
  {
   "cell_type": "code",
   "execution_count": 3,
   "metadata": {
    "ExecuteTime": {
     "end_time": "2020-04-28T05:51:20.325615Z",
     "start_time": "2020-04-28T05:51:20.321078Z"
    }
   },
   "outputs": [],
   "source": [
    "def f(x):\n",
    "    return x*x-2"
   ]
  },
  {
   "cell_type": "code",
   "execution_count": 4,
   "metadata": {
    "ExecuteTime": {
     "end_time": "2020-04-28T05:51:21.466278Z",
     "start_time": "2020-04-28T05:51:21.458741Z"
    }
   },
   "outputs": [
    {
     "name": "stdout",
     "output_type": "stream",
     "text": [
      "roop 0    x = 5.0\n",
      "roop 1    x = 2.7\n",
      "roop 2    x = 1.7203703703703703\n",
      "roop 3    x = 1.44145536817765\n",
      "roop 4    x = 1.414470981367771\n",
      "roop 5    x = 1.4142135857968836\n",
      "roop 6    x = 1.4142135623730951\n",
      "roop 7    x = 1.414213562373095\n",
      "roop 8    x = 1.4142135623730951\n",
      "roop 9    x = 1.414213562373095\n",
      "roop 10   x = 1.4142135623730951\n"
     ]
    }
   ],
   "source": [
    "init_x_value = 5\n",
    "init_x_tensor = init_x_value*torch.ones(1,1,dtype=torch.float64)\n",
    "x = Variable(init_x_tensor, requires_grad=True)\n",
    "print(f'roop {0:<4d} x = {x.item()}')\n",
    "\n",
    "roop = 0\n",
    "while roop < 10:\n",
    "    roop += 1\n",
    "    f(x).backward()\n",
    "    x.data -=  (f(x)/x.grad).data\n",
    "    x.grad.zero_()\n",
    "    print(f'roop {roop:<4d} x = {x.item()}')"
   ]
  }
 ],
 "metadata": {
  "kernelspec": {
   "display_name": "Python 3",
   "language": "python",
   "name": "python3"
  },
  "language_info": {
   "codemirror_mode": {
    "name": "ipython",
    "version": 3
   },
   "file_extension": ".py",
   "mimetype": "text/x-python",
   "name": "python",
   "nbconvert_exporter": "python",
   "pygments_lexer": "ipython3",
   "version": "3.7.3"
  },
  "toc": {
   "base_numbering": 1,
   "nav_menu": {},
   "number_sections": true,
   "sideBar": true,
   "skip_h1_title": false,
   "title_cell": "Table of Contents",
   "title_sidebar": "Contents",
   "toc_cell": false,
   "toc_position": {},
   "toc_section_display": true,
   "toc_window_display": false
  }
 },
 "nbformat": 4,
 "nbformat_minor": 4
}
