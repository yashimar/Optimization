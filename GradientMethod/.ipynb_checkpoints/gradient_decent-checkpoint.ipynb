{
 "cells": [
  {
   "cell_type": "code",
   "execution_count": 1,
   "metadata": {
    "ExecuteTime": {
     "end_time": "2020-04-23T17:14:38.527984Z",
     "start_time": "2020-04-23T17:14:38.057112Z"
    }
   },
   "outputs": [],
   "source": [
    "import torch\n",
    "from torch.autograd import Variable\n",
    "\n",
    "import numpy as np\n",
    "from matplotlib import pyplot as plt"
   ]
  },
  {
   "cell_type": "code",
   "execution_count": 29,
   "metadata": {
    "ExecuteTime": {
     "end_time": "2020-04-23T17:34:07.325396Z",
     "start_time": "2020-04-23T17:34:07.203709Z"
    }
   },
   "outputs": [
    {
     "data": {
      "text/plain": [
       "[<matplotlib.lines.Line2D at 0x7f1e126d5160>]"
      ]
     },
     "execution_count": 29,
     "metadata": {},
     "output_type": "execute_result"
    },
    {
     "data": {
      "image/png": "[encoded data removed]",
      "text/plain": [
       "<Figure size 432x288 with 1 Axes>"
      ]
     },
     "metadata": {
      "needs_background": "light"
     },
     "output_type": "display_data"
    }
   ],
   "source": [
    "def f(x):\n",
    "    return (x-1)*(x-2.5)**2*(x-3)\n",
    "\n",
    "x = np.arange(0.8,3.5,0.1)\n",
    "y = f(x)\n",
    "plt.plot(x,y)"
   ]
  },
  {
   "cell_type": "code",
   "execution_count": 31,
   "metadata": {
    "ExecuteTime": {
     "end_time": "2020-04-23T17:34:27.995765Z",
     "start_time": "2020-04-23T17:34:27.971084Z"
    },
    "scrolled": true
   },
   "outputs": [
    {
     "name": "stdout",
     "output_type": "stream",
     "text": [
      "roop 0    x = 3.5\n",
      "roop 1    x = 2.4\n",
      "roop 2    x = 2.3648\n",
      "roop 3    x = 2.3152496369663997\n",
      "roop 4    x = 2.244389732548291\n",
      "roop 5    x = 2.141865253462009\n",
      "roop 6    x = 1.9942161638687543\n",
      "roop 7    x = 1.792501239473844\n",
      "roop 8    x = 1.5632322621076673\n",
      "roop 9    x = 1.4133179421564774\n",
      "roop 10   x = 1.4053776445604866\n",
      "roop 11   x = 1.4073316194161554\n",
      "roop 12   x = 1.4068271602029307\n",
      "roop 13   x = 1.4069559165681125\n",
      "roop 14   x = 1.4069229553879052\n",
      "roop 15   x = 1.4069313869459825\n",
      "roop 16   x = 1.406929229712394\n",
      "roop 17   x = 1.4069297816181983\n",
      "roop 18   x = 1.4069296404170388\n",
      "roop 19   x = 1.40692967654223\n",
      "roop 20   x = 1.4069296672998801\n"
     ]
    }
   ],
   "source": [
    "init_x_value = 3.5\n",
    "init_x_tensor = init_x_value*torch.ones(1,1,dtype=torch.float64)\n",
    "x = Variable(init_x_tensor, requires_grad=True)\n",
    "print(f'roop {0:<4d} x = {x.item()}')\n",
    "\n",
    "roop = 0\n",
    "eta = 0.2\n",
    "while roop < 20:\n",
    "    roop += 1\n",
    "    f(x).backward()\n",
    "    x.data -=  eta*x.grad.data\n",
    "    x.grad.zero_()\n",
    "    print(f'roop {roop:<4d} x = {x.item()}')"
   ]
  }
 ],
 "metadata": {
  "kernelspec": {
   "display_name": "Python 3",
   "language": "python",
   "name": "python3"
  },
  "language_info": {
   "codemirror_mode": {
    "name": "ipython",
    "version": 3
   },
   "file_extension": ".py",
   "mimetype": "text/x-python",
   "name": "python",
   "nbconvert_exporter": "python",
   "pygments_lexer": "ipython3",
   "version": "3.7.3"
  },
  "toc": {
   "base_numbering": 1,
   "nav_menu": {},
   "number_sections": true,
   "sideBar": true,
   "skip_h1_title": false,
   "title_cell": "Table of Contents",
   "title_sidebar": "Contents",
   "toc_cell": false,
   "toc_position": {},
   "toc_section_display": true,
   "toc_window_display": false
  }
 },
 "nbformat": 4,
 "nbformat_minor": 4
}
