{
 "cells": [
  {
   "cell_type": "code",
   "execution_count": 6,
   "metadata": {
    "ExecuteTime": {
     "end_time": "2020-05-01T10:05:33.172074Z",
     "start_time": "2020-05-01T10:05:32.937708Z"
    }
   },
   "outputs": [],
   "source": [
    "import numpy as np\n",
    "import matplotlib.pyplot as plt\n",
    "from ipywidgets import interact\n",
    "from matplotlib.widgets import Slider\n",
    "import matplotlib.animation as animation\n",
    "import math\n",
    "import pandas as pd\n",
    "\n",
    "import sys\n",
    "sys.path.append(\"../../../modules/\")\n",
    "import sim2d2link as sim"
   ]
  },
  {
   "cell_type": "code",
   "execution_count": 14,
   "metadata": {
    "ExecuteTime": {
     "end_time": "2020-05-01T09:26:59.817021Z",
     "start_time": "2020-05-01T09:26:55.125044Z"
    }
   },
   "outputs": [
    {
     "name": "stderr",
     "output_type": "stream",
     "text": [
      "MovieWriter imagemagick unavailable; trying to use <class 'matplotlib.animation.PillowWriter'> instead.\n"
     ]
    },
    {
     "data": {
      "image/png": "[encoded data removed]",
      "text/plain": [
       "<Figure size 360x360 with 1 Axes>"
      ]
     },
     "metadata": {
      "needs_background": "light"
     },
     "output_type": "display_data"
    }
   ],
   "source": [
    "tmp = [1,1,2,2,3,3]\n",
    "sim.draw(commands=tmp, save_path=\"../logs/test.gif\")"
   ]
  },
  {
   "cell_type": "code",
   "execution_count": 15,
   "metadata": {
    "ExecuteTime": {
     "end_time": "2020-05-01T09:26:59.830481Z",
     "start_time": "2020-05-01T09:26:59.818788Z"
    }
   },
   "outputs": [],
   "source": [
    "def fk(L, th):\n",
    "    # 各リンクの長さと関節角度の取得\n",
    "    l1, l2 = L\n",
    "    th1, th2 = th\n",
    "\n",
    "    # リンク1の手先\n",
    "    x1 = l1 * math.cos(th1)\n",
    "    y1 = l1 * math.sin(th1)\n",
    "\n",
    "    # リンク2の手先\n",
    "    x2 = x1 + l2 * math.cos(th1 + th2)\n",
    "    y2 = y1 + l2 * math.sin(th1 + th2)\n",
    "\n",
    "    # 手先位置をNumPy配列に格納して返す\n",
    "    return np.array([[0, 0], [x1, y1], [x2, y2]])\n",
    "\n",
    "\n",
    "def main(th1, th2):\n",
    "    # リンク1, 2の長さ\n",
    "    L = [0.5, 0.5]\n",
    "\n",
    "    # 第1, 2の関節角度\n",
    "    th = np.radians([90, 0])\n",
    "\n",
    "    # 順運動学の計算\n",
    "    p = fk(L, th)\n",
    "\n",
    "    # グラフ描画位置の設定\n",
    "    fig, ax = plt.subplots()\n",
    "    plt.axis('equal')\n",
    "    plt.subplots_adjust(left=0.1, bottom=0.15)\n",
    "    plt.xlim([-1, 1])\n",
    "    plt.ylim([-0.3, 1.3])\n",
    "    # グラフ描画\n",
    "    plt.grid()\n",
    "    graph, = plt.plot(p.T[0], p.T[1])\n",
    "\n",
    "    def update_th1(slider_val):\n",
    "        # 関節1の角度を更新\n",
    "        th[0] = np.radians([slider_val])\n",
    "\n",
    "        # 順運動学の計算\n",
    "        p = fk(L, th)\n",
    "\n",
    "        # 手先位置を更新\n",
    "        graph.set_data(p.T[0], p.T[1])\n",
    "        graph.set_linestyle('-')\n",
    "        graph.set_linewidth(5)\n",
    "        graph.set_marker('o')\n",
    "        graph.set_markerfacecolor('g')\n",
    "        graph.set_markeredgecolor('g')\n",
    "        graph.set_markersize(15)\n",
    "\n",
    "        # グラフの再描画\n",
    "        fig.canvas.draw_idle()\n",
    "\n",
    "    def update_th2(slider_val):\n",
    "        # 関節2の角度を更新\n",
    "        th[1] = np.radians([slider_val])\n",
    "\n",
    "        # 順運動学の計算\n",
    "        p = fk(L, th)\n",
    "\n",
    "        # 手先位置を更新\n",
    "        graph.set_data(p.T[0], p.T[1])\n",
    "        graph.set_linestyle('-')\n",
    "        graph.set_linewidth(5)\n",
    "        graph.set_marker('o')\n",
    "        graph.set_markerfacecolor('g')\n",
    "        graph.set_markeredgecolor('g')\n",
    "        graph.set_markersize(15)\n",
    "\n",
    "        # グラフの再描画\n",
    "        fig.canvas.draw_idle()\n",
    "        \n",
    "    interact(update_th1(th1))\n",
    "    interact(update_th2(th2))\n",
    "    \n",
    "    graph.set_linestyle('-')\n",
    "    graph.set_linewidth(5)\n",
    "    graph.set_marker('o')\n",
    "    graph.set_markerfacecolor('g')\n",
    "    graph.set_markeredgecolor('g')\n",
    "    graph.set_markersize(15)\n",
    "    plt.grid()\n",
    "    plt.show()"
   ]
  },
  {
   "cell_type": "code",
   "execution_count": 16,
   "metadata": {
    "ExecuteTime": {
     "end_time": "2020-05-01T09:27:00.060658Z",
     "start_time": "2020-05-01T09:26:59.832112Z"
    }
   },
   "outputs": [
    {
     "data": {
      "application/vnd.jupyter.widget-view+json": {
       "model_id": "1f893fdbc3e149e891fae5861cfbb449",
       "version_major": 2,
       "version_minor": 0
      },
      "text/plain": [
       "interactive(children=(IntSlider(value=90, description='th1', max=180), IntSlider(value=90, description='th2', …"
      ]
     },
     "metadata": {},
     "output_type": "display_data"
    }
   ],
   "source": [
    "if __name__ == '__main__':\n",
    "    interact(main, th1=(0,180,1), th2=(0,180,1))"
   ]
  },
  {
   "cell_type": "code",
   "execution_count": 9,
   "metadata": {
    "ExecuteTime": {
     "end_time": "2020-05-01T09:41:08.033173Z",
     "start_time": "2020-05-01T09:41:08.026280Z"
    },
    "code_folding": []
   },
   "outputs": [],
   "source": [
    "def fk(L, th):\n",
    "    # 各リンクの長さと関節角度の取得\n",
    "    l1, l2 = L\n",
    "    th1, th2 = th\n",
    "\n",
    "    # リンク1の手先\n",
    "    x1 = l1 * math.cos(th1)\n",
    "    y1 = l1 * math.sin(th1)\n",
    "\n",
    "    # リンク2の手先\n",
    "    x2 = x1 + l2 * math.cos(th1 + th2)\n",
    "    y2 = y1 + l2 * math.sin(th1 + th2)\n",
    "\n",
    "    # 手先位置をNumPy配列に格納して返す\n",
    "    return np.array([[0, 0], [x1, y1], [x2, y2]])\n",
    "\n",
    "\n",
    "# def main():\n",
    "#     # リンク1, 2の長さ\n",
    "#     L = [0.5, 0.5]\n",
    "\n",
    "#     # 第1, 2の関節角度\n",
    "#     th = np.radians([90, 0])\n",
    "\n",
    "#     # 順運動学の計算\n",
    "#     p = fk(L, th)\n",
    "\n",
    "#     # グラフ描画位置の設定\n",
    "#     fig, ax = plt.subplots()\n",
    "#     plt.axis('equal')\n",
    "#     plt.subplots_adjust(left=0.1, bottom=0.15)\n",
    "#     plt.xlim([-1, 1])\n",
    "#     plt.ylim([-0.3, 1.3])\n",
    "#     # グラフ描画\n",
    "#     plt.grid()\n",
    "#     graph, = plt.plot(p.T[0], p.T[1])\n",
    "\n",
    "#     def update_th1(slider_val):\n",
    "#         # 関節1の角度を更新\n",
    "#         th[0] = np.radians([slider_val])\n",
    "\n",
    "#         # 順運動学の計算\n",
    "#         p = fk(L, th)\n",
    "\n",
    "#         # 手先位置を更新\n",
    "#         graph.set_data(p.T[0], p.T[1])\n",
    "#         graph.set_linestyle('-')\n",
    "#         graph.set_linewidth(5)\n",
    "#         graph.set_marker('o')\n",
    "#         graph.set_markerfacecolor('g')\n",
    "#         graph.set_markeredgecolor('g')\n",
    "#         graph.set_markersize(15)\n",
    "\n",
    "#         # グラフの再描画\n",
    "#         fig.canvas.draw_idle()\n",
    "\n",
    "#     def update_th2(slider_val):\n",
    "#         # 関節2の角度を更新\n",
    "#         th[1] = np.radians([slider_val])\n",
    "\n",
    "#         # 順運動学の計算\n",
    "#         p = fk(L, th)\n",
    "\n",
    "#         # 手先位置を更新\n",
    "#         graph.set_data(p.T[0], p.T[1])\n",
    "#         graph.set_linestyle('-')\n",
    "#         graph.set_linewidth(5)\n",
    "#         graph.set_marker('o')\n",
    "#         graph.set_markerfacecolor('g')\n",
    "#         graph.set_markeredgecolor('g')\n",
    "#         graph.set_markersize(15)\n",
    "\n",
    "#         # グラフの再描画\n",
    "#         fig.canvas.draw_idle()\n",
    "    \n",
    "#     for i in [0,10,20,30,40,50,60,70,80,90]:\n",
    "#     interact(update_th1(0))\n",
    "#     interact(update_th2(90))\n",
    "    \n",
    "#     graph.set_linestyle('-')\n",
    "#     graph.set_linewidth(5)\n",
    "#     graph.set_marker('o')\n",
    "#     graph.set_markerfacecolor('g')\n",
    "#     graph.set_markeredgecolor('g')\n",
    "#     graph.set_markersize(15)\n",
    "#     plt.grid()\n",
    "#     plt.show()"
   ]
  },
  {
   "cell_type": "code",
   "execution_count": 33,
   "metadata": {
    "ExecuteTime": {
     "end_time": "2020-05-01T09:32:10.612376Z",
     "start_time": "2020-05-01T09:32:10.599135Z"
    }
   },
   "outputs": [],
   "source": [
    "L = [1.0, 1.0]\n",
    "def update(i, x1, x2):\n",
    "    if i!=0:\n",
    "        plt.cla()\n",
    "    plt.xlim([-2.1, 2.1])\n",
    "    plt.ylim([-2.1, 2.1])\n",
    "    plt.grid()\n",
    "      \n",
    "    th1 = x1[i]\n",
    "    th2 = x2[i]\n",
    "    p = fk(L, [th1,th2])\n",
    "    \n",
    "    graph, = plt.plot(p.T[0], p.T[1])\n",
    "    graph.set_data(p.T[0], p.T[1])\n",
    "    graph.set_linestyle('-')\n",
    "    graph.set_linewidth(5)\n",
    "    graph.set_marker('o')\n",
    "    graph.set_markerfacecolor('g')\n",
    "    graph.set_markeredgecolor('g')\n",
    "    graph.set_markersize(15)  \n",
    "    \n",
    "def draw(commands, length=20, return_traj=False):\n",
    "    fig = plt.figure(figsize=(5,5))\n",
    "    \n",
    "    n_step = len(commands)//2\n",
    "    x1_traj = np.zeros(1)\n",
    "    x2_traj = np.zeros(1)\n",
    "    for i in range(n_step):\n",
    "        x1_traj = np.hstack( (x1_traj, np.linspace(x1_traj[-1], x1_traj[-1]+commands[2*i], length)) )\n",
    "        x2_traj = np.hstack( (x2_traj, np.linspace(x2_traj[-1], x2_traj[-1]+commands[2*i+1], length)) )\n",
    "\n",
    "    ani = animation.FuncAnimation(\n",
    "        fig, update, fargs = (x1_traj,x2_traj,), \n",
    "        interval = 50, frames = len(x1_traj))\n",
    "    ani.save(\"../logs/test.gif\", writer = 'imagemagick')\n",
    "    \n",
    "    if return_traj: return x2_traj"
   ]
  },
  {
   "cell_type": "code",
   "execution_count": 15,
   "metadata": {
    "ExecuteTime": {
     "end_time": "2020-05-01T09:42:33.669919Z",
     "start_time": "2020-05-01T09:42:33.662451Z"
    }
   },
   "outputs": [
    {
     "data": {
      "text/plain": [
       "array([[ 0.000000e+00,  0.000000e+00],\n",
       "       [ 6.123234e-17,  1.000000e+00],\n",
       "       [-1.000000e+00,  1.000000e+00]])"
      ]
     },
     "execution_count": 15,
     "metadata": {},
     "output_type": "execute_result"
    }
   ],
   "source": [
    "fk([1,1], [np.pi/2,np.pi/2])"
   ]
  },
  {
   "cell_type": "code",
   "execution_count": 178,
   "metadata": {
    "ExecuteTime": {
     "end_time": "2020-04-29T18:43:00.294450Z",
     "start_time": "2020-04-29T18:42:55.541688Z"
    }
   },
   "outputs": [
    {
     "name": "stderr",
     "output_type": "stream",
     "text": [
      "MovieWriter imagemagick unavailable; trying to use <class 'matplotlib.animation.PillowWriter'> instead.\n"
     ]
    },
    {
     "data": {
      "image/png": "[encoded data removed]",
      "text/plain": [
       "<Figure size 360x360 with 1 Axes>"
      ]
     },
     "metadata": {
      "needs_background": "light"
     },
     "output_type": "display_data"
    }
   ],
   "source": [
    "draw(commands=[ 0.00813796,  1.5650477 ,  1.59266531, -1.62293495, -0.02865115,  1.62630648])"
   ]
  },
  {
   "cell_type": "code",
   "execution_count": null,
   "metadata": {},
   "outputs": [],
   "source": [
    "# [ 0.00813796,  1.5650477 ,  1.59266531, -1.62293495, -0.02865115,  1.62630648]"
   ]
  },
  {
   "cell_type": "code",
   "execution_count": 18,
   "metadata": {
    "ExecuteTime": {
     "end_time": "2020-05-01T09:27:06.940894Z",
     "start_time": "2020-05-01T09:27:06.933599Z"
    }
   },
   "outputs": [],
   "source": [
    "tmp = [1,1,2,2,3,3]\n",
    "n_step = len(tmp)//2\n",
    "\n",
    "x1_traj = np.zeros(1)\n",
    "x2_traj = np.zeros(1)\n",
    "for i in range(n_step):\n",
    "    x1_traj = np.hstack( (x1_traj, np.linspace(x1_traj[-1], x1_traj[-1]+tmp[2*i], 20)) )\n",
    "    x2_traj = np.hstack( (x2_traj, np.linspace(x2_traj[-1], x2_traj[-1]+tmp[2*i+1], 20)) )"
   ]
  },
  {
   "cell_type": "code",
   "execution_count": 10,
   "metadata": {
    "ExecuteTime": {
     "end_time": "2020-05-01T10:08:33.803106Z",
     "start_time": "2020-05-01T10:08:33.800499Z"
    }
   },
   "outputs": [],
   "source": [
    "command = [math.radians(1), math.radians(360)]*360"
   ]
  },
  {
   "cell_type": "code",
   "execution_count": 11,
   "metadata": {
    "ExecuteTime": {
     "end_time": "2020-05-01T10:28:09.724457Z",
     "start_time": "2020-05-01T10:08:34.867016Z"
    }
   },
   "outputs": [
    {
     "name": "stderr",
     "output_type": "stream",
     "text": [
      "MovieWriter imagemagick unavailable; trying to use <class 'matplotlib.animation.PillowWriter'> instead.\n"
     ]
    },
    {
     "name": "stdout",
     "output_type": "stream",
     "text": [
      "drawing time: 1172.297s\n"
     ]
    },
    {
     "data": {
      "image/png": "[encoded data removed]",
      "text/plain": [
       "<Figure size 360x360 with 1 Axes>"
      ]
     },
     "metadata": {
      "needs_background": "light"
     },
     "output_type": "display_data"
    }
   ],
   "source": [
    "logs = sim.draw(\n",
    "    command, length=60, return_traj=True, \n",
    "    isgrid=False, size=2.5, \n",
    "    save_path=\"../logs/sample.gif\")\n",
    "\n",
    "df = pd.DataFrame({\"end traj\":logs})\n",
    "df.to_csv(\"../logs/sample_traj.csv\")"
   ]
  },
  {
   "cell_type": "code",
   "execution_count": 12,
   "metadata": {
    "ExecuteTime": {
     "end_time": "2020-05-01T11:02:44.242149Z",
     "start_time": "2020-05-01T11:02:44.042279Z"
    }
   },
   "outputs": [
    {
     "data": {
      "text/plain": [
       "[<matplotlib.lines.Line2D at 0x7f27cc1e5be0>,\n",
       " <matplotlib.lines.Line2D at 0x7f27cce021d0>]"
      ]
     },
     "execution_count": 12,
     "metadata": {},
     "output_type": "execute_result"
    },
    {
     "data": {
      "image/png": "[encoded data removed]",
      "text/plain": [
       "<Figure size 432x288 with 1 Axes>"
      ]
     },
     "metadata": {
      "needs_background": "light"
     },
     "output_type": "display_data"
    }
   ],
   "source": [
    "plt.plot(logs)"
   ]
  }
 ],
 "metadata": {
  "kernelspec": {
   "display_name": "Python 3",
   "language": "python",
   "name": "python3"
  },
  "language_info": {
   "codemirror_mode": {
    "name": "ipython",
    "version": 3
   },
   "file_extension": ".py",
   "mimetype": "text/x-python",
   "name": "python",
   "nbconvert_exporter": "python",
   "pygments_lexer": "ipython3",
   "version": "3.7.3"
  },
  "toc": {
   "base_numbering": 1,
   "nav_menu": {},
   "number_sections": true,
   "sideBar": true,
   "skip_h1_title": false,
   "title_cell": "Table of Contents",
   "title_sidebar": "Contents",
   "toc_cell": false,
   "toc_position": {},
   "toc_section_display": true,
   "toc_window_display": false
  }
 },
 "nbformat": 4,
 "nbformat_minor": 4
}
