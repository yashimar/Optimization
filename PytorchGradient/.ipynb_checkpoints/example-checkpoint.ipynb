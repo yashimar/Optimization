{
 "cells": [
  {
   "cell_type": "code",
   "execution_count": 2,
   "metadata": {
    "ExecuteTime": {
     "end_time": "2020-04-25T10:37:15.599542Z",
     "start_time": "2020-04-25T10:37:15.591139Z"
    }
   },
   "outputs": [],
   "source": [
    "import numpy as np\n",
    "import matplotlib.pyplot as plt\n",
    "from copy import deepcopy\n",
    "import pandas as pd\n",
    "\n",
    "import torch\n",
    "from torch.autograd import grad"
   ]
  },
  {
   "cell_type": "code",
   "execution_count": 3,
   "metadata": {
    "ExecuteTime": {
     "end_time": "2020-04-25T10:37:24.529703Z",
     "start_time": "2020-04-25T10:37:24.523789Z"
    }
   },
   "outputs": [],
   "source": [
    "def node(tensor):\n",
    "    return tensor.clone().detach().requires_grad_(True)"
   ]
  },
  {
   "cell_type": "code",
   "execution_count": 4,
   "metadata": {
    "ExecuteTime": {
     "end_time": "2020-04-25T10:37:34.465149Z",
     "start_time": "2020-04-25T10:37:34.395603Z"
    }
   },
   "outputs": [
    {
     "name": "stdout",
     "output_type": "stream",
     "text": [
      "fx1: tensor([4.]), fa1: tensor([1.])\n",
      "fx1x0: tensor([8.]), fx1a0: tensor([4.])\n",
      "\n",
      "gx1: tensor([12.], grad_fn=<MulBackward0>)\n",
      "gx1x1: tensor([12.], grad_fn=<MulBackward0>)\n",
      "gx1x1x0: tensor([18.])\n",
      "\n",
      "hx1: tensor([2.], grad_fn=<MulBackward0>)\n",
      "hx1a1: tensor([2.], grad_fn=<MulBackward0>)\n",
      "hx1a1x0: tensor([4.])\n"
     ]
    }
   ],
   "source": [
    "def f(x, a):\n",
    "    return x**2+a\n",
    "\n",
    "init_value = torch.ones(1)*1.\n",
    "nx0 = node(init_value)\n",
    "na0 = node(init_value)\n",
    "ex0 = f(nx0, na0)\n",
    "\n",
    "nx1 = node(ex0)\n",
    "na1 = node(init_value)\n",
    "ex1 = f(nx1, na1)\n",
    "\n",
    "ex1.backward()\n",
    "print(f\"fx1: {nx1.grad}, fa1: {na1.grad}\")\n",
    "# nx1.grad.zero_()\n",
    "ex0.backward(nx1.grad)\n",
    "print(f\"fx1x0: {nx0.grad}, fx1a0: {na0.grad}\")\n",
    "print(\"\")\n",
    "\n",
    "\n",
    "def g(x, a):\n",
    "    return x**3+a\n",
    "\n",
    "init_value = torch.ones(1)*1.\n",
    "nx0 = node(init_value)\n",
    "na0 = node(init_value)\n",
    "ex0 = g(nx0, na0)\n",
    "\n",
    "nx1 = node(ex0)\n",
    "na1 = node(init_value)\n",
    "ex1 = g(nx1, na1)\n",
    "\n",
    "gx1 = torch.autograd.grad(ex1, nx1, create_graph=True)[0]\n",
    "print(f\"gx1: {gx1}\")\n",
    "gx1x1 = torch.autograd.grad(gx1, nx1, create_graph=True)[0]\n",
    "print(f\"gx1x1: {gx1x1}\")\n",
    "gx1x1x1 = torch.autograd.grad(gx1x1, nx1, create_graph=True)[0]\n",
    "ex0.backward(gx1x1x1)\n",
    "print(f\"gx1x1x0: {nx0.grad}\")\n",
    "print(\"\")\n",
    "\n",
    "\n",
    "def h(x, a):\n",
    "    return x**2*a\n",
    "\n",
    "init_value = torch.ones(1)*1.\n",
    "nx0 = node(init_value)\n",
    "na0 = node(init_value)\n",
    "ex0 = h(nx0, na0)\n",
    "\n",
    "nx1 = node(ex0)\n",
    "na1 = node(init_value)\n",
    "ex1 = h(nx1, na1)\n",
    "\n",
    "hx1 = torch.autograd.grad(ex1, nx1, create_graph=True)[0]\n",
    "print(f\"hx1: {hx1}\")\n",
    "hx1a1 = torch.autograd.grad(hx1, na1, create_graph=True)[0]\n",
    "print(f\"hx1a1: {hx1a1}\")\n",
    "hx1a1x1 = torch.autograd.grad(hx1a1, nx1, create_graph=True)[0]\n",
    "ex0.backward(hx1a1x1)\n",
    "print(f\"hx1a1x0: {nx0.grad}\")"
   ]
  }
 ],
 "metadata": {
  "kernelspec": {
   "display_name": "Python 3",
   "language": "python",
   "name": "python3"
  },
  "language_info": {
   "codemirror_mode": {
    "name": "ipython",
    "version": 3
   },
   "file_extension": ".py",
   "mimetype": "text/x-python",
   "name": "python",
   "nbconvert_exporter": "python",
   "pygments_lexer": "ipython3",
   "version": "3.7.3"
  },
  "toc": {
   "base_numbering": 1,
   "nav_menu": {},
   "number_sections": true,
   "sideBar": true,
   "skip_h1_title": false,
   "title_cell": "Table of Contents",
   "title_sidebar": "Contents",
   "toc_cell": false,
   "toc_position": {},
   "toc_section_display": true,
   "toc_window_display": false
  }
 },
 "nbformat": 4,
 "nbformat_minor": 4
}
