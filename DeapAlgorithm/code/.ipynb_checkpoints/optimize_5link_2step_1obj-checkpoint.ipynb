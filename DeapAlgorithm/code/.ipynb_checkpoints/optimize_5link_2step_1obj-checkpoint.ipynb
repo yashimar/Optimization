{
 "cells": [
  {
   "cell_type": "code",
   "execution_count": 3,
   "metadata": {
    "ExecuteTime": {
     "end_time": "2020-05-06T17:56:08.546847Z",
     "start_time": "2020-05-06T17:56:08.540384Z"
    }
   },
   "outputs": [],
   "source": [
    "import numpy as np\n",
    "import random\n",
    "import matplotlib.pyplot as plt\n",
    "import pandas as pd\n",
    "import time\n",
    "import math\n",
    "\n",
    "from deap import algorithms\n",
    "from deap import base\n",
    "from deap import benchmarks\n",
    "from deap import cma\n",
    "from deap import creator\n",
    "from deap import tools\n",
    "\n",
    "import torch \n",
    "import torch.utils.data as data\n",
    "from torch.utils.data import DataLoader\n",
    "import torch.nn as nn\n",
    "import torch.nn.functional as F\n",
    "import torch.optim as optim\n",
    "from torch.autograd import grad\n",
    "\n",
    "import sys\n",
    "sys.path.append(\"../../../modules/\")\n",
    "import sim2d2link as sim\n",
    "import helper as hp"
   ]
  },
  {
   "cell_type": "code",
   "execution_count": 4,
   "metadata": {
    "ExecuteTime": {
     "end_time": "2020-05-06T17:56:08.745410Z",
     "start_time": "2020-05-06T17:56:08.739045Z"
    }
   },
   "outputs": [
    {
     "name": "stdout",
     "output_type": "stream",
     "text": [
      "device :  cuda\n",
      "num gpu :  4\n"
     ]
    }
   ],
   "source": [
    "import os\n",
    "os.environ[\"CUDA_VISIBLE_DEVICES\"]=\"0,1,2,3\"\n",
    "device = 'cuda' if torch.cuda.is_available() else 'cpu'\n",
    "# device = torch.device('cuda') \n",
    "print('device : ', device)\n",
    "print('num gpu : ', torch.cuda.device_count())"
   ]
  },
  {
   "cell_type": "code",
   "execution_count": 5,
   "metadata": {
    "ExecuteTime": {
     "end_time": "2020-05-06T17:56:09.137325Z",
     "start_time": "2020-05-06T17:56:09.131243Z"
    }
   },
   "outputs": [],
   "source": [
    "INIT_THETA1 = 0.0\n",
    "INIT_THETA2 = 0.0\n",
    "INIT_THETA3 = 0.0\n",
    "INIT_THETA4 = 0.0\n",
    "INIT_THETA5 = 0.0\n",
    "POS_GOAL1 = np.array([[1.0, 1.0, 1.0]])\n",
    "POS_GOAL2 = np.array([[1.0, 1.0, 1.0]])\n",
    "# POS_GOAL3 = np.array([[-1.0, 1.0]])"
   ]
  },
  {
   "cell_type": "code",
   "execution_count": 6,
   "metadata": {
    "ExecuteTime": {
     "end_time": "2020-05-06T17:56:12.540865Z",
     "start_time": "2020-05-06T17:56:09.618359Z"
    }
   },
   "outputs": [
    {
     "data": {
      "text/plain": [
       "<All keys matched successfully>"
      ]
     },
     "execution_count": 6,
     "metadata": {},
     "output_type": "execute_result"
    }
   ],
   "source": [
    "model_fk = hp.BasicRegressor2()\n",
    "model_fk.layer1 = nn.Linear(5, 2048)\n",
    "model_fk.last = nn.Linear(2048, 3)\n",
    "model_fk = nn.DataParallel(model_fk).to(device).eval()\n",
    "model_fk.load_state_dict(torch.load(\"../../../Robotics/models/model_fk.pth\"))"
   ]
  },
  {
   "cell_type": "code",
   "execution_count": 79,
   "metadata": {
    "ExecuteTime": {
     "end_time": "2020-05-07T05:15:59.102721Z",
     "start_time": "2020-05-07T05:15:59.093290Z"
    }
   },
   "outputs": [],
   "source": [
    "def fk(init_theta1, init_theta2, init_theta3, init_theta4, init_theta5,\n",
    "           a1, a2, a3, a4, a5):\n",
    "    additional_cost = 0\n",
    "    next_theta1 = np.clip(init_theta1 + a1, -180, 180)\n",
    "    next_theta2 = np.clip(init_theta2 + a2, 0, 120)\n",
    "    next_theta3 = np.clip(init_theta3 + a3, -180, 0)\n",
    "    next_theta4 = np.clip(init_theta4 + a4, -180, 180)\n",
    "    next_theta5 = np.clip(init_theta5 + a5, -160, 60)\n",
    "    additional_cost += 1e2 if ((init_theta1+a1<-180)or(init_theta1+a1>180)) else 0\n",
    "    additional_cost += 1e2 if ((init_theta2+a2<0)or(init_theta2+a2>120)) else 0\n",
    "    additional_cost += 1e2 if ((init_theta3+a3<-180)or(init_theta3+a3>0)) else 0\n",
    "    additional_cost += 1e2 if ((init_theta4+a4<-180)or(init_theta4+a4>180)) else 0\n",
    "    additional_cost += 1e2 if ((init_theta5+a5<-160)or(init_theta5+a5>60)) else 0\n",
    "    \n",
    "    \n",
    "    out = model_fk(torch.tensor([[next_theta1, next_theta2, next_theta3, next_theta4, next_theta5]])/360)\n",
    "    pos_pred = out.cpu().detach().numpy()[0]\n",
    "    return next_theta1, next_theta2, next_theta3, next_theta4, next_theta5, pos_pred, additional_cost\n",
    "\n",
    "def evaluate(individual):\n",
    "    regulation_penalty = 0\n",
    "    a01, a02, a03, a04, a05, a11, a12, a13, a14, a15 = individual\n",
    "    theta11, theta12, theta13, theta14, theta15, pos_pred, additional_cost = fk(\n",
    "        INIT_THETA1, INIT_THETA2, INIT_THETA3, INIT_THETA4, INIT_THETA5,\n",
    "        a01, a02, a03, a04, a05)\n",
    "    cost1 = np.linalg.norm(pos_pred-POS_GOAL1)\n",
    "    regulation_penalty += additional_cost\n",
    "    \n",
    "    theta21, theta22, theta23, theta24, theta25, pos_pred, additional_cost = fk(\n",
    "        theta11, theta12, theta13, theta14, theta15,\n",
    "        a11, a12, a13, a14, a15)\n",
    "    cost2 = np.linalg.norm(pos_pred-POS_GOAL2)\n",
    "    regulation_penalty += additional_cost\n",
    "    \n",
    "#     _, _, pos_pred = fk(theta21, theta22, a21, a22)\n",
    "#     cost3 = np.linalg.norm(pos_pred-POS_GOAL3)\n",
    "    \n",
    "#     return cost1, cost2, cost3,\n",
    "    return cost1+cost2+regulation_penalty, "
   ]
  },
  {
   "cell_type": "code",
   "execution_count": 80,
   "metadata": {
    "ExecuteTime": {
     "end_time": "2020-05-07T05:15:59.503755Z",
     "start_time": "2020-05-07T05:15:59.487189Z"
    }
   },
   "outputs": [],
   "source": [
    "def solve(IND_DIM, NPOP, NGEN):\n",
    "    t1 = time.time() \n",
    "    np.random.seed(64)\n",
    "\n",
    "    creator.create(\"FitnessMin\", base.Fitness, weights=(-1.0,))\n",
    "    creator.create(\"Individual\", np.ndarray, fitness=creator.FitnessMin)\n",
    "    strategy = cma.Strategy(centroid=[0.0]*IND_DIM, sigma=1.0, lambda_=NPOP)  # cnetroid: \"mu\", sigma: \"sigma\"\n",
    "\n",
    "    toolbox = base.Toolbox()\n",
    "    toolbox.register(\"generate\", strategy.generate, creator.Individual)\n",
    "    toolbox.register(\"update\", strategy.update)\n",
    "    toolbox.register(\"evaluate\", evaluate)\n",
    "    \n",
    "    \n",
    "    \n",
    "    halloffame = tools.HallOfFame(1, similar=np.array_equal)\n",
    "\n",
    "    mean_fitness = []\n",
    "    halloffame_array = []\n",
    "    C_array = []\n",
    "    centroid_array = []\n",
    "    stats = tools.Statistics(lambda ind: ind.fitness.values)\n",
    "    stats.register(\"min\", np.min, axis=0)\n",
    "    stats.register(\"max\", np.max, axis=0)\n",
    "    logbook = tools.Logbook()\n",
    "    logbook.header = [\"gen\", \"nevals\"] + (stats.fields if stats else [])\n",
    "    fitness_history = []\n",
    "\n",
    "    for gen in range(NGEN):\n",
    "        stack_fitness = []\n",
    "        population = toolbox.generate()\n",
    "        fitnesses = toolbox.map(toolbox.evaluate, population)\n",
    "        for ind, fit in zip(population, fitnesses):\n",
    "            ind.fitness.values = fit\n",
    "            stack_fitness.append(fit)         \n",
    "        toolbox.update(population)\n",
    "        halloffame.update(population)\n",
    "\n",
    "        record = stats.compile(population) if stats is not None else {}\n",
    "        logbook.record(gen=gen, nevals=len(population), **record)\n",
    "        print(logbook.stream)\n",
    "\n",
    "    t2 = time.time() \n",
    "    elapsed_time = t2-t1\n",
    "    print(f\"solving time: {elapsed_time:.3f}s\")\n",
    "    \n",
    "    id_best = 0\n",
    "    eval_best = 1e10\n",
    "    for i in range(len(population)):\n",
    "        eval = sum(toolbox.evaluate(population[i]))\n",
    "        if eval < eval_best:\n",
    "            id_best = i\n",
    "            eval_best = eval\n",
    "            \n",
    "    \n",
    "    \n",
    "    return population[id_best]"
   ]
  },
  {
   "cell_type": "code",
   "execution_count": 81,
   "metadata": {
    "ExecuteTime": {
     "end_time": "2020-05-07T05:16:06.240936Z",
     "start_time": "2020-05-07T05:16:00.312102Z"
    },
    "scrolled": true
   },
   "outputs": [
    {
     "name": "stderr",
     "output_type": "stream",
     "text": [
      "/home/yashima/anaconda3/lib/python3.7/site-packages/deap/creator.py:141: RuntimeWarning:\n",
      "\n",
      "A class named 'FitnessMin' has already been created and it will be overwritten. Consider deleting previous creation of that class or rename it.\n",
      "\n",
      "/home/yashima/anaconda3/lib/python3.7/site-packages/deap/creator.py:141: RuntimeWarning:\n",
      "\n",
      "A class named 'Individual' has already been created and it will be overwritten. Consider deleting previous creation of that class or rename it.\n",
      "\n"
     ]
    },
    {
     "name": "stdout",
     "output_type": "stream",
     "text": [
      "gen\tnevals\tmin         \tmax           \n",
      "0  \t10    \t[7.05563076]\t[306.91412661]\n",
      "1  \t10    \t[6.95739161]\t[207.12409643]\n",
      "2  \t10    \t[6.86685165]\t[207.02968711]\n",
      "3  \t10    \t[6.80383304]\t[106.8277658] \n",
      "4  \t10    \t[6.67812508]\t[106.86996327]\n",
      "5  \t10    \t[6.74496541]\t[106.75406996]\n",
      "6  \t10    \t[6.77148722]\t[206.87928219]\n",
      "7  \t10    \t[6.73685983]\t[206.72447805]\n",
      "8  \t10    \t[6.65768471]\t[106.82835352]\n",
      "9  \t10    \t[6.5899372] \t[206.77940262]\n",
      "10 \t10    \t[6.50253441]\t[106.8101481] \n",
      "11 \t10    \t[6.49520811]\t[106.77843486]\n",
      "12 \t10    \t[6.28030313]\t[106.58683609]\n",
      "13 \t10    \t[6.2399258] \t[106.28909975]\n",
      "14 \t10    \t[5.97550328]\t[106.42342139]\n",
      "15 \t10    \t[5.86569057]\t[106.621682]  \n",
      "16 \t10    \t[5.86230212]\t[106.5166484] \n",
      "17 \t10    \t[5.7553689] \t[106.14316679]\n",
      "18 \t10    \t[5.69716805]\t[106.16121368]\n",
      "19 \t10    \t[5.32768891]\t[106.09536106]\n",
      "20 \t10    \t[5.15193182]\t[205.49061611]\n",
      "21 \t10    \t[4.36344757]\t[105.06007328]\n",
      "22 \t10    \t[3.7757304] \t[105.3234594] \n",
      "23 \t10    \t[2.91282707]\t[104.18941816]\n",
      "24 \t10    \t[2.21337503]\t[102.95980372]\n",
      "25 \t10    \t[2.60404901]\t[104.35044638]\n",
      "26 \t10    \t[2.31369989]\t[102.37435722]\n",
      "27 \t10    \t[2.17085765]\t[203.44597346]\n",
      "28 \t10    \t[1.19079485]\t[101.59965586]\n",
      "29 \t10    \t[1.13347736]\t[101.83434856]\n",
      "30 \t10    \t[0.94453609]\t[201.53402815]\n",
      "31 \t10    \t[0.66490651]\t[101.18566346]\n",
      "32 \t10    \t[1.26649358]\t[202.79273142]\n",
      "33 \t10    \t[0.80933551]\t[101.86305495]\n",
      "34 \t10    \t[0.71292033]\t[101.90785283]\n",
      "35 \t10    \t[1.12305545]\t[202.31346463]\n",
      "36 \t10    \t[0.66968131]\t[101.94636293]\n",
      "37 \t10    \t[1.01498869]\t[100.79111438]\n",
      "38 \t10    \t[0.65699826]\t[101.54517297]\n",
      "39 \t10    \t[0.72670717]\t[201.3359567] \n",
      "40 \t10    \t[0.53769275]\t[101.650934]  \n",
      "41 \t10    \t[0.59875435]\t[201.34875579]\n",
      "42 \t10    \t[0.67898407]\t[100.83467017]\n",
      "43 \t10    \t[0.50671756]\t[101.46527246]\n",
      "44 \t10    \t[0.61443409]\t[101.7722115] \n",
      "45 \t10    \t[0.50095247]\t[1.48943748]  \n",
      "46 \t10    \t[0.38689681]\t[200.62590368]\n",
      "47 \t10    \t[0.41991855]\t[100.616656]  \n",
      "48 \t10    \t[0.43316321]\t[101.32798082]\n",
      "49 \t10    \t[0.40624215]\t[100.31892722]\n",
      "50 \t10    \t[0.37806494]\t[1.50976408]  \n",
      "51 \t10    \t[0.28428624]\t[101.25412149]\n",
      "52 \t10    \t[0.32090367]\t[100.95117053]\n",
      "53 \t10    \t[0.15662551]\t[100.70386469]\n",
      "54 \t10    \t[0.38333037]\t[100.3510615] \n",
      "55 \t10    \t[0.22682198]\t[101.33639061]\n",
      "56 \t10    \t[0.34093372]\t[0.74842504]  \n",
      "57 \t10    \t[0.39736018]\t[0.96052691]  \n",
      "58 \t10    \t[0.24722404]\t[100.57238718]\n",
      "59 \t10    \t[0.10868663]\t[0.54561072]  \n",
      "60 \t10    \t[0.15207502]\t[100.41184322]\n",
      "61 \t10    \t[0.1236977] \t[100.62250997]\n",
      "62 \t10    \t[0.1650001] \t[100.43866294]\n",
      "63 \t10    \t[0.13929695]\t[0.58333145]  \n",
      "64 \t10    \t[0.15656188]\t[0.71498026]  \n",
      "65 \t10    \t[0.22973203]\t[100.1948928] \n",
      "66 \t10    \t[0.14703313]\t[100.2721053] \n",
      "67 \t10    \t[0.1291297] \t[100.47856209]\n",
      "68 \t10    \t[0.14228904]\t[0.54284746]  \n",
      "69 \t10    \t[0.20436998]\t[0.47371576]  \n",
      "70 \t10    \t[0.11573496]\t[0.40858331]  \n",
      "71 \t10    \t[0.1005327] \t[0.44360569]  \n",
      "72 \t10    \t[0.14855826]\t[0.54033161]  \n",
      "73 \t10    \t[0.16644496]\t[0.54766853]  \n",
      "74 \t10    \t[0.15547916]\t[0.43655498]  \n",
      "75 \t10    \t[0.14389507]\t[100.29335141]\n",
      "76 \t10    \t[0.10016994]\t[0.2789783]   \n",
      "77 \t10    \t[0.06694556]\t[100.20311763]\n",
      "78 \t10    \t[0.05634252]\t[0.27939792]  \n",
      "79 \t10    \t[0.10508023]\t[0.27642313]  \n",
      "80 \t10    \t[0.10960221]\t[0.24573118]  \n",
      "81 \t10    \t[0.10103419]\t[0.30303072]  \n",
      "82 \t10    \t[0.07018225]\t[0.21900927]  \n",
      "83 \t10    \t[0.09745966]\t[0.22067269]  \n",
      "84 \t10    \t[0.05012694]\t[0.27480226]  \n",
      "85 \t10    \t[0.05871988]\t[0.17827734]  \n",
      "86 \t10    \t[0.06591805]\t[0.1952538]   \n",
      "87 \t10    \t[0.07350582]\t[0.18636721]  \n",
      "88 \t10    \t[0.04469647]\t[0.18247926]  \n",
      "89 \t10    \t[0.06918278]\t[0.14330428]  \n",
      "90 \t10    \t[0.0326604] \t[0.13982737]  \n",
      "91 \t10    \t[0.05300651]\t[0.11157794]  \n",
      "92 \t10    \t[0.05004928]\t[0.13486981]  \n",
      "93 \t10    \t[0.05525357]\t[0.0839101]   \n",
      "94 \t10    \t[0.03428664]\t[0.09090733]  \n",
      "95 \t10    \t[0.02618481]\t[0.08571951]  \n",
      "96 \t10    \t[0.01467349]\t[0.06817855]  \n",
      "97 \t10    \t[0.03421838]\t[0.07359794]  \n",
      "98 \t10    \t[0.02975248]\t[0.09577105]  \n",
      "99 \t10    \t[0.02095575]\t[0.07722785]  \n",
      "100\t10    \t[0.02939439]\t[0.06929844]  \n",
      "101\t10    \t[0.01538004]\t[0.07865803]  \n",
      "102\t10    \t[0.02310498]\t[0.06794051]  \n",
      "103\t10    \t[0.02294666]\t[0.04516648]  \n",
      "104\t10    \t[0.01907048]\t[0.04291454]  \n",
      "105\t10    \t[0.02052141]\t[0.05531099]  \n",
      "106\t10    \t[0.014461]  \t[0.04450721]  \n",
      "107\t10    \t[0.01620482]\t[0.03691012]  \n",
      "108\t10    \t[0.01761991]\t[0.03941284]  \n",
      "109\t10    \t[0.00804103]\t[0.03741663]  \n",
      "110\t10    \t[0.00887978]\t[0.03076306]  \n",
      "111\t10    \t[0.01205636]\t[0.03563033]  \n",
      "112\t10    \t[0.01612259]\t[0.03444426]  \n",
      "113\t10    \t[0.01062723]\t[0.03306804]  \n",
      "114\t10    \t[0.01007887]\t[0.04055187]  \n",
      "115\t10    \t[0.01119313]\t[0.0259945]   \n",
      "116\t10    \t[0.01002376]\t[0.04213979]  \n",
      "117\t10    \t[0.00613518]\t[0.02609372]  \n",
      "118\t10    \t[0.00958549]\t[0.02591412]  \n",
      "119\t10    \t[0.00750767]\t[0.02291568]  \n",
      "120\t10    \t[0.0065686] \t[0.01480537]  \n",
      "121\t10    \t[0.00451472]\t[0.01600513]  \n",
      "122\t10    \t[0.00493419]\t[0.02499768]  \n",
      "123\t10    \t[0.00357295]\t[0.01973017]  \n",
      "124\t10    \t[0.00525115]\t[0.01530789]  \n",
      "125\t10    \t[0.00654626]\t[0.0201093]   \n",
      "126\t10    \t[0.00191116]\t[0.0126065]   \n",
      "127\t10    \t[0.00505042]\t[0.00912161]  \n",
      "128\t10    \t[0.00436686]\t[0.01112782]  \n",
      "129\t10    \t[0.00341102]\t[0.00994698]  \n",
      "130\t10    \t[0.00285753]\t[0.01012008]  \n",
      "131\t10    \t[0.00362053]\t[0.00909948]  \n",
      "132\t10    \t[0.00344242]\t[0.00999654]  \n",
      "133\t10    \t[0.00294509]\t[0.01112669]  \n",
      "134\t10    \t[0.0026554] \t[0.00673881]  \n",
      "135\t10    \t[0.0029287] \t[0.00692508]  \n",
      "136\t10    \t[0.00202992]\t[0.0064659]   \n",
      "137\t10    \t[0.00216305]\t[0.00520868]  \n",
      "138\t10    \t[0.00097335]\t[0.00594017]  \n",
      "139\t10    \t[0.0012954] \t[0.0034683]   \n",
      "140\t10    \t[0.00144328]\t[0.00450068]  \n",
      "141\t10    \t[0.00078792]\t[0.00375201]  \n",
      "142\t10    \t[0.001189]  \t[0.00348212]  \n",
      "143\t10    \t[0.00133794]\t[0.00341213]  \n",
      "144\t10    \t[0.00139618]\t[0.0041454]   \n",
      "145\t10    \t[0.00122156]\t[0.00446254]  \n",
      "146\t10    \t[0.00205907]\t[0.00467433]  \n",
      "147\t10    \t[0.0008043] \t[0.00395933]  \n",
      "148\t10    \t[0.00137223]\t[0.00375766]  \n",
      "149\t10    \t[0.00157829]\t[0.00340235]  \n",
      "150\t10    \t[0.00118186]\t[0.00316353]  \n",
      "151\t10    \t[0.0013358] \t[0.00300222]  \n",
      "152\t10    \t[0.00116832]\t[0.00305058]  \n",
      "153\t10    \t[0.00101501]\t[0.00207083]  \n",
      "154\t10    \t[0.00068407]\t[0.00226289]  \n",
      "155\t10    \t[0.00115642]\t[0.00232108]  \n",
      "156\t10    \t[0.00076529]\t[0.00213766]  \n",
      "157\t10    \t[0.00070664]\t[0.00182436]  \n",
      "158\t10    \t[0.00104032]\t[0.00168859]  \n",
      "159\t10    \t[0.00084721]\t[0.00171761]  \n",
      "160\t10    \t[0.00095239]\t[0.00210111]  \n",
      "161\t10    \t[0.00091358]\t[0.00183268]  \n",
      "162\t10    \t[0.00064066]\t[0.0017382]   \n",
      "163\t10    \t[0.00046043]\t[0.00137017]  \n",
      "164\t10    \t[0.00057957]\t[0.00117406]  \n",
      "165\t10    \t[0.00073878]\t[0.00181947]  \n",
      "166\t10    \t[0.00060345]\t[0.00137798]  \n",
      "167\t10    \t[0.00028068]\t[0.0010419]   \n",
      "168\t10    \t[0.00038404]\t[0.00104338]  \n",
      "169\t10    \t[0.00047684]\t[0.00079648]  \n",
      "170\t10    \t[0.00019533]\t[0.0009706]   \n",
      "171\t10    \t[0.00025442]\t[0.00066425]  \n",
      "172\t10    \t[0.00022123]\t[0.00081602]  \n",
      "173\t10    \t[0.00022628]\t[0.00074872]  \n",
      "174\t10    \t[0.00030173]\t[0.00068303]  \n",
      "175\t10    \t[0.00023379]\t[0.00053416]  \n",
      "176\t10    \t[0.000198]  \t[0.0005247]   \n",
      "177\t10    \t[0.00026094]\t[0.00048865]  \n",
      "178\t10    \t[0.00017666]\t[0.00042365]  \n",
      "179\t10    \t[0.00013722]\t[0.00034721]  \n",
      "180\t10    \t[0.00013607]\t[0.00032883]  \n",
      "181\t10    \t[0.00016213]\t[0.00046121]  \n",
      "182\t10    \t[0.0002151] \t[0.00041632]  \n",
      "183\t10    \t[0.00020008]\t[0.00051939]  \n",
      "184\t10    \t[0.00010049]\t[0.00037411]  \n",
      "185\t10    \t[7.32946467e-05]\t[0.00030722]  \n",
      "186\t10    \t[0.00012608]    \t[0.00025303]  \n",
      "187\t10    \t[9.1111509e-05] \t[0.00025513]  \n",
      "188\t10    \t[7.18870168e-05]\t[0.00023745]  \n",
      "189\t10    \t[9.7319246e-05] \t[0.00023983]  \n",
      "190\t10    \t[5.73967679e-05]\t[0.00016761]  \n",
      "191\t10    \t[5.39567319e-05]\t[0.00017629]  \n",
      "192\t10    \t[9.35187382e-05]\t[0.00017467]  \n",
      "193\t10    \t[3.19093999e-05]\t[0.00016202]  \n",
      "194\t10    \t[7.18419304e-05]\t[0.00012544]  \n",
      "195\t10    \t[4.63173098e-05]\t[0.00017702]  \n",
      "196\t10    \t[3.36349221e-05]\t[0.00020158]  \n",
      "197\t10    \t[3.81938152e-05]\t[0.00010778]  \n",
      "198\t10    \t[4.95546869e-05]\t[0.00011744]  \n",
      "199\t10    \t[6.2425497e-05] \t[0.00012216]  \n",
      "solving time: 5.894s\n"
     ]
    }
   ],
   "source": [
    "INIT_THETA1 = 0.0\n",
    "INIT_THETA2 = 0.0\n",
    "INIT_THETA3 = 0.0\n",
    "INIT_THETA4 = 0.0\n",
    "INIT_THETA5 = 0.0\n",
    "POS_GOAL1 = np.array([[2.0, 7.0, 2.0]])\n",
    "POS_GOAL2 = np.array([[1.0, 1.0, 1.0]])\n",
    "# POS_GOAL3 = np.array([[-1.0, 1.0]])\n",
    "\n",
    "command = solve(IND_DIM=10, NPOP=10, NGEN=200)"
   ]
  },
  {
   "cell_type": "code",
   "execution_count": 82,
   "metadata": {
    "ExecuteTime": {
     "end_time": "2020-05-07T05:16:13.948451Z",
     "start_time": "2020-05-07T05:16:13.942299Z"
    }
   },
   "outputs": [
    {
     "data": {
      "text/plain": [
       "Individual([ 31.49117813,   4.52637015, -75.55283539, -46.21399811,\n",
       "             17.42570492,  29.31114196,  49.21794907,  72.49732971,\n",
       "             -6.08872315,  36.33927531])"
      ]
     },
     "execution_count": 82,
     "metadata": {},
     "output_type": "execute_result"
    }
   ],
   "source": [
    "command"
   ]
  }
 ],
 "metadata": {
  "kernelspec": {
   "display_name": "Python 3",
   "language": "python",
   "name": "python3"
  },
  "language_info": {
   "codemirror_mode": {
    "name": "ipython",
    "version": 3
   },
   "file_extension": ".py",
   "mimetype": "text/x-python",
   "name": "python",
   "nbconvert_exporter": "python",
   "pygments_lexer": "ipython3",
   "version": "3.7.3"
  },
  "toc": {
   "base_numbering": 1,
   "nav_menu": {},
   "number_sections": true,
   "sideBar": true,
   "skip_h1_title": false,
   "title_cell": "Table of Contents",
   "title_sidebar": "Contents",
   "toc_cell": false,
   "toc_position": {},
   "toc_section_display": true,
   "toc_window_display": false
  }
 },
 "nbformat": 4,
 "nbformat_minor": 4
}
