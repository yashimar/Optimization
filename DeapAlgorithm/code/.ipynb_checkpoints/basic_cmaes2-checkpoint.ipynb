{
 "cells": [
  {
   "cell_type": "code",
   "execution_count": 1,
   "metadata": {
    "ExecuteTime": {
     "end_time": "2020-04-29T08:34:26.866745Z",
     "start_time": "2020-04-29T08:34:26.598511Z"
    }
   },
   "outputs": [],
   "source": [
    "import numpy\n",
    "import random\n",
    "from deap import algorithms\n",
    "from deap import base\n",
    "from deap import benchmarks\n",
    "from deap import cma\n",
    "from deap import creator\n",
    "from deap import tools\n",
    "\n",
    "import matplotlib.pyplot as plt"
   ]
  },
  {
   "cell_type": "code",
   "execution_count": 2,
   "metadata": {
    "ExecuteTime": {
     "end_time": "2020-04-29T08:35:30.362634Z",
     "start_time": "2020-04-29T08:35:30.331325Z"
    }
   },
   "outputs": [
    {
     "name": "stdout",
     "output_type": "stream",
     "text": [
      "Individual dimentions: 2\n",
      "Number of Individuals: 40\n",
      "sample evaluation score: (83.34952787501909,)\n",
      "\n"
     ]
    }
   ],
   "source": [
    "N = 2 \n",
    "NPOP = 40\n",
    "NGEN = 50\n",
    "\n",
    "creator.create(\"FitnessMin\", base.Fitness, weights=(-1.0,))\n",
    "creator.create(\"Individual\", list, fitness=creator.FitnessMin)\n",
    "strategy = cma.Strategy(centroid=[5.0]*N, sigma=3.0, lambda_=NPOP)  # cnetroid: \"mu\", sigma: \"sigma\"\n",
    "\n",
    "toolbox = base.Toolbox()\n",
    "toolbox.register(\"generate\", strategy.generate, creator.Individual)\n",
    "toolbox.register(\"update\", strategy.update)\n",
    "toolbox.register(\"evaluate\", benchmarks.rastrigin)\n",
    "\n",
    "print(f\"Individual dimentions: {len(toolbox.generate()[0])}\")\n",
    "print(f\"Number of Individuals: {len(toolbox.generate())}\")\n",
    "print(f\"sample evaluation score: {toolbox.evaluate(toolbox.generate()[0])}\")\n",
    "print(\"\")"
   ]
  },
  {
   "cell_type": "code",
   "execution_count": 25,
   "metadata": {
    "ExecuteTime": {
     "end_time": "2020-04-29T08:39:45.003792Z",
     "start_time": "2020-04-29T08:39:44.994883Z"
    }
   },
   "outputs": [],
   "source": [
    "def main():\n",
    "    numpy.random.seed(64)\n",
    "\n",
    "    # The CMA-ES algorithm \n",
    "    strategy = cma.Strategy(centroid=[5.0]*N, sigma=3.0, lambda_=20*N)\n",
    "    toolbox.register(\"generate\", strategy.generate, creator.Individual)\n",
    "    toolbox.register(\"update\", strategy.update)\n",
    "\n",
    "    halloffame = tools.HallOfFame(1)\n",
    "\n",
    "    halloffame_array = []\n",
    "    C_array = []\n",
    "    centroid_array = []\n",
    "    for gen in range(NGEN):\n",
    "        # 新たな世代の個体群を生成\n",
    "        population = toolbox.generate()\n",
    "        # 個体群の評価\n",
    "        fitnesses = toolbox.map(toolbox.evaluate, population)\n",
    "        for ind, fit in zip(population, fitnesses):\n",
    "            ind.fitness.values = fit\n",
    "\n",
    "        # 個体群の評価から次世代の計算のためのパラメタ更新\n",
    "        toolbox.update(population)\n",
    "\n",
    "        # hall-of-fameの更新\n",
    "        halloffame.update(population)\n",
    "\n",
    "        halloffame_array.append(halloffame[0])\n",
    "        C_array.append(strategy.C)\n",
    "        centroid_array.append(strategy.centroid)\n",
    "        \n",
    "    return halloffame_array"
   ]
  },
  {
   "cell_type": "code",
   "execution_count": 26,
   "metadata": {
    "ExecuteTime": {
     "end_time": "2020-04-29T08:39:45.459966Z",
     "start_time": "2020-04-29T08:39:45.414358Z"
    }
   },
   "outputs": [
    {
     "data": {
      "text/plain": [
       "[[0.9503310851103386, 1.9214293262809798],\n",
       " [0.9503310851103386, 1.9214293262809798],\n",
       " [0.9503310851103386, 1.9214293262809798],\n",
       " [0.9503310851103386, 1.9214293262809798],\n",
       " [0.9244234116214667, 1.044792107715562],\n",
       " [0.052473977938281874, 0.08577215806542622],\n",
       " [0.052473977938281874, 0.08577215806542622],\n",
       " [0.052473977938281874, 0.08577215806542622],\n",
       " [0.052473977938281874, 0.08577215806542622],\n",
       " [-0.9436164809897445, 0.0012580715611871796],\n",
       " [-0.9436164809897445, 0.0012580715611871796],\n",
       " [-0.9436164809897445, 0.0012580715611871796],\n",
       " [-0.9436164809897445, 0.0012580715611871796],\n",
       " [-0.9436164809897445, 0.0012580715611871796],\n",
       " [-0.9436164809897445, 0.0012580715611871796],\n",
       " [-0.9436164809897445, 0.0012580715611871796],\n",
       " [-0.9436164809897445, 0.0012580715611871796],\n",
       " [-0.9612822595307978, 0.02448523124485069],\n",
       " [-0.9612822595307978, 0.02448523124485069],\n",
       " [-0.9612822595307978, 0.02448523124485069],\n",
       " [-0.9612822595307978, 0.02448523124485069],\n",
       " [0.05775342924111637, 0.010747321076348335],\n",
       " [0.05775342924111637, 0.010747321076348335],\n",
       " [0.05775342924111637, 0.010747321076348335],\n",
       " [0.011037143984176823, -0.03701552872175601],\n",
       " [0.011037143984176823, -0.03701552872175601],\n",
       " [0.011037143984176823, -0.03701552872175601],\n",
       " [0.011037143984176823, -0.03701552872175601],\n",
       " [0.011037143984176823, -0.03701552872175601],\n",
       " [0.027498182363527232, -0.025282620717907815],\n",
       " [-0.015505929434556455, 0.013338359870649949],\n",
       " [-0.012137423945437244, 0.0016198781651637654],\n",
       " [0.011246223021286892, -0.003299565445165153],\n",
       " [-0.0021887686761423233, -0.000933248050485474],\n",
       " [0.0006511207967258329, 0.0010192061970700432],\n",
       " [-0.0009952577239320977, 0.00046469826786875077],\n",
       " [-0.00032583034521715937, 0.0006272979676749392],\n",
       " [-0.00022978959682909883, -0.0005297480145520707],\n",
       " [7.858286269466123e-05, -0.00013814185458167064],\n",
       " [7.858286269466123e-05, -0.00013814185458167064],\n",
       " [1.9383094908751472e-05, 2.9885918911904606e-05],\n",
       " [1.9383094908751472e-05, 2.9885918911904606e-05],\n",
       " [-1.4632324120318333e-05, -1.8402632445676075e-05],\n",
       " [5.324294958381111e-06, 1.8124213738433123e-06],\n",
       " [5.324294958381111e-06, 1.8124213738433123e-06],\n",
       " [1.941278623636562e-06, -1.3320752209504987e-06],\n",
       " [1.941278623636562e-06, -1.3320752209504987e-06],\n",
       " [-9.405542294137516e-08, -6.320801549165619e-08],\n",
       " [-9.405542294137516e-08, -6.320801549165619e-08],\n",
       " [-9.405542294137516e-08, -6.320801549165619e-08]]"
      ]
     },
     "execution_count": 26,
     "metadata": {},
     "output_type": "execute_result"
    }
   ],
   "source": [
    "main()"
   ]
  }
 ],
 "metadata": {
  "kernelspec": {
   "display_name": "Python 3",
   "language": "python",
   "name": "python3"
  },
  "language_info": {
   "codemirror_mode": {
    "name": "ipython",
    "version": 3
   },
   "file_extension": ".py",
   "mimetype": "text/x-python",
   "name": "python",
   "nbconvert_exporter": "python",
   "pygments_lexer": "ipython3",
   "version": "3.7.3"
  },
  "toc": {
   "base_numbering": 1,
   "nav_menu": {},
   "number_sections": true,
   "sideBar": true,
   "skip_h1_title": false,
   "title_cell": "Table of Contents",
   "title_sidebar": "Contents",
   "toc_cell": false,
   "toc_position": {},
   "toc_section_display": true,
   "toc_window_display": false
  }
 },
 "nbformat": 4,
 "nbformat_minor": 4
}
