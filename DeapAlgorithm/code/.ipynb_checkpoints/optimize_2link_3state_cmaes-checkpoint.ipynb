{
 "cells": [
  {
   "cell_type": "code",
   "execution_count": 1,
   "metadata": {
    "ExecuteTime": {
     "end_time": "2020-04-29T19:16:17.753738Z",
     "start_time": "2020-04-29T19:16:17.255192Z"
    }
   },
   "outputs": [],
   "source": [
    "import numpy as np\n",
    "import random\n",
    "import matplotlib.pyplot as plt\n",
    "import pandas as pd\n",
    "import time\n",
    "\n",
    "from deap import algorithms\n",
    "from deap import base\n",
    "from deap import benchmarks\n",
    "from deap import cma\n",
    "from deap import creator\n",
    "from deap import tools\n",
    "\n",
    "import sys\n",
    "sys.path.append(\"../../../modules/\")\n",
    "import sim2d2link as sim"
   ]
  },
  {
   "cell_type": "code",
   "execution_count": 2,
   "metadata": {
    "ExecuteTime": {
     "end_time": "2020-04-29T19:16:17.758772Z",
     "start_time": "2020-04-29T19:16:17.755431Z"
    }
   },
   "outputs": [],
   "source": [
    "INIT_THETA1 = 0.0\n",
    "INIT_THETA2 = 0.0\n",
    "POS_GOAL1 = np.array([[1.0, 1.0]])\n",
    "POS_GOAL2 = np.array([[0.0, 2.0]])\n",
    "POS_GOAL3 = np.array([[-1.0, 1.0]])"
   ]
  },
  {
   "cell_type": "code",
   "execution_count": 3,
   "metadata": {
    "ExecuteTime": {
     "end_time": "2020-04-29T19:16:17.769131Z",
     "start_time": "2020-04-29T19:16:17.760369Z"
    }
   },
   "outputs": [],
   "source": [
    "def fk(init_theta1, init_theta2, a1, a2, armL=1.0):\n",
    "    next_theta1 = init_theta1 + a1\n",
    "    next_theta2 = init_theta2 + a2\n",
    "    x = armL*np.cos(next_theta1) + armL*np.cos(next_theta1+next_theta2)\n",
    "    y = armL*np.sin(next_theta1)+ armL*np.sin(next_theta1+next_theta2)\n",
    "    pos_pred = np.array([x, y])\n",
    "    return next_theta1, next_theta2, pos_pred\n",
    "\n",
    "def evaluate(individual):\n",
    "    a01, a02, a11, a12, a21, a22 = individual\n",
    "    theta11, theta12, pos_pred = fk(INIT_THETA1, INIT_THETA2, a01, a02)\n",
    "    cost1 = np.linalg.norm(pos_pred-POS_GOAL1)\n",
    "    theta21, theta22, pos_pred = fk(theta11, theta12, a11, a12)\n",
    "    cost2 = np.linalg.norm(pos_pred-POS_GOAL2)\n",
    "    _, _, pos_pred = fk(theta21, theta22, a21, a22)\n",
    "    cost3 = np.linalg.norm(pos_pred-POS_GOAL3)\n",
    "    \n",
    "    return cost1, cost2, cost3,\n",
    "\n",
    "# def evaluate(individual):\n",
    "#     a01, a02, a11, a12, a21, a22 = individual\n",
    "    \n",
    "#     return a01+a02, a11+a12, a21+a22,"
   ]
  },
  {
   "cell_type": "code",
   "execution_count": 4,
   "metadata": {
    "ExecuteTime": {
     "end_time": "2020-04-29T19:16:17.803657Z",
     "start_time": "2020-04-29T19:16:17.770283Z"
    }
   },
   "outputs": [],
   "source": [
    "def solve(IND_DIM, NSTATE, NPOP, NGEN, MU, LAMBDA):\n",
    "    t1 = time.time() \n",
    "    np.random.seed(64)\n",
    "\n",
    "    creator.create(\"FitnessMin\", base.Fitness, weights=tuple([-1 for i in range(NSTATE)]))\n",
    "    creator.create(\"Individual\", np.ndarray, fitness=creator.FitnessMin)\n",
    "    toolbox = base.Toolbox()\n",
    "    toolbox.register(\"evaluate\", evaluate)\n",
    "    \n",
    "    population = [creator.Individual(x) for x in (np.random.uniform(0, 1, (NPOP, IND_DIM)))]\n",
    "    for ind in population:\n",
    "        ind.fitness.values = toolbox.evaluate(ind)\n",
    "    \n",
    "    strategy = cma.StrategyMultiObjective(population, sigma=1.0, mu=MU, lambda_=LAMBDA)\n",
    "    \n",
    "    toolbox.register(\"generate\", strategy.generate, creator.Individual)\n",
    "    toolbox.register(\"update\", strategy.update)\n",
    "    \n",
    "    halloffame = tools.HallOfFame(1, similar=np.array_equal)\n",
    "\n",
    "    mean_fitness = []\n",
    "    halloffame_array = []\n",
    "    C_array = []\n",
    "    centroid_array = []\n",
    "    stats = tools.Statistics(lambda ind: ind.fitness.values)\n",
    "    stats.register(\"min\", np.min, axis=0)\n",
    "    stats.register(\"max\", np.max, axis=0)\n",
    "    logbook = tools.Logbook()\n",
    "    logbook.header = [\"gen\", \"nevals\"] + (stats.fields if stats else [])\n",
    "    fitness_history = []\n",
    "\n",
    "    for gen in range(NGEN):\n",
    "        stack_fitness = []\n",
    "        population = toolbox.generate()\n",
    "        fitnesses = toolbox.map(toolbox.evaluate, population)\n",
    "        for ind, fit in zip(population, fitnesses):\n",
    "            ind.fitness.values = fit\n",
    "            stack_fitness.append(fit)         \n",
    "        toolbox.update(population)\n",
    "        halloffame.update(population)\n",
    "\n",
    "        record = stats.compile(population) if stats is not None else {}\n",
    "        logbook.record(gen=gen, nevals=len(population), **record)\n",
    "#         print(logbook.stream)\n",
    "\n",
    "    t2 = time.time() \n",
    "    elapsed_time = t2-t1\n",
    "    print(f\"solving time: {elapsed_time:.3f}s\")\n",
    "    \n",
    "    id_best = 0\n",
    "    eval_best = 1e10\n",
    "    for i in range(len(population)):\n",
    "        eval = sum(toolbox.evaluate(population[i]))\n",
    "        if eval < eval_best:\n",
    "            id_best = i\n",
    "            eval_best = eval\n",
    "            \n",
    "    \n",
    "    \n",
    "    return population[id_best]"
   ]
  },
  {
   "cell_type": "code",
   "execution_count": 5,
   "metadata": {
    "ExecuteTime": {
     "end_time": "2020-04-29T19:16:19.004985Z",
     "start_time": "2020-04-29T19:16:17.805549Z"
    },
    "scrolled": true
   },
   "outputs": [
    {
     "name": "stdout",
     "output_type": "stream",
     "text": [
      "solving time: 1.133s\n"
     ]
    }
   ],
   "source": [
    "INIT_THETA1 = 0.0\n",
    "INIT_THETA2 = 0.0\n",
    "POS_GOAL1 = np.array([[1.0, 1.0]])\n",
    "POS_GOAL2 = np.array([[0.0, 2.0]])\n",
    "POS_GOAL3 = np.array([[-1.0, 1.0]])\n",
    "\n",
    "command = solve(IND_DIM=6, NSTATE=3, NPOP=10, NGEN=600, MU=10, LAMBDA=10)"
   ]
  },
  {
   "cell_type": "code",
   "execution_count": 8,
   "metadata": {
    "ExecuteTime": {
     "end_time": "2020-05-01T08:26:02.499970Z",
     "start_time": "2020-05-01T08:25:57.744929Z"
    }
   },
   "outputs": [
    {
     "name": "stderr",
     "output_type": "stream",
     "text": [
      "MovieWriter imagemagick unavailable; trying to use <class 'matplotlib.animation.PillowWriter'> instead.\n"
     ]
    },
    {
     "name": "stdout",
     "output_type": "stream",
     "text": [
      "drawing time: 4.635s\n"
     ]
    },
    {
     "data": {
      "image/png": "[encoded data removed]",
      "text/plain": [
       "<Figure size 360x360 with 1 Axes>"
      ]
     },
     "metadata": {
      "needs_background": "light"
     },
     "output_type": "display_data"
    }
   ],
   "source": [
    "sim.draw(command, save_path=\"../logs/2link3state_cmaes.gif\")"
   ]
  }
 ],
 "metadata": {
  "kernelspec": {
   "display_name": "Python 3",
   "language": "python",
   "name": "python3"
  },
  "language_info": {
   "codemirror_mode": {
    "name": "ipython",
    "version": 3
   },
   "file_extension": ".py",
   "mimetype": "text/x-python",
   "name": "python",
   "nbconvert_exporter": "python",
   "pygments_lexer": "ipython3",
   "version": "3.7.3"
  },
  "toc": {
   "base_numbering": 1,
   "nav_menu": {},
   "number_sections": true,
   "sideBar": true,
   "skip_h1_title": false,
   "title_cell": "Table of Contents",
   "title_sidebar": "Contents",
   "toc_cell": false,
   "toc_position": {},
   "toc_section_display": true,
   "toc_window_display": false
  }
 },
 "nbformat": 4,
 "nbformat_minor": 4
}
