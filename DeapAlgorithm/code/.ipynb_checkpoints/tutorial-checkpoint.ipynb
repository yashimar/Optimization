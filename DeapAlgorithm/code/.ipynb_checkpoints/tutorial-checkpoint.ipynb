{
 "cells": [
  {
   "cell_type": "code",
   "execution_count": 7,
   "metadata": {
    "ExecuteTime": {
     "end_time": "2020-04-29T07:41:43.504921Z",
     "start_time": "2020-04-29T07:41:43.502051Z"
    }
   },
   "outputs": [],
   "source": [
    "import numpy\n",
    "import random\n",
    "from deap import algorithms\n",
    "from deap import base\n",
    "from deap import benchmarks\n",
    "from deap import cma\n",
    "from deap import creator\n",
    "from deap import tools\n",
    "\n",
    "import matplotlib.pyplot as plt"
   ]
  },
  {
   "cell_type": "code",
   "execution_count": 46,
   "metadata": {
    "ExecuteTime": {
     "end_time": "2020-04-29T08:04:31.406624Z",
     "start_time": "2020-04-29T08:04:31.395860Z"
    }
   },
   "outputs": [
    {
     "name": "stdout",
     "output_type": "stream",
     "text": [
      "Method 1.\n",
      "Individual dimentions: 2\n",
      "Number of Individuals: 40\n",
      "sample evaluation score: (126.56378998040506,)\n",
      "\n"
     ]
    },
    {
     "name": "stderr",
     "output_type": "stream",
     "text": [
      "/home/yashima/anaconda3/lib/python3.7/site-packages/deap/creator.py:141: RuntimeWarning: A class named 'FitnessMin1' has already been created and it will be overwritten. Consider deleting previous creation of that class or rename it.\n",
      "  RuntimeWarning)\n",
      "/home/yashima/anaconda3/lib/python3.7/site-packages/deap/creator.py:141: RuntimeWarning: A class named 'Individual1' has already been created and it will be overwritten. Consider deleting previous creation of that class or rename it.\n",
      "  RuntimeWarning)\n"
     ]
    }
   ],
   "source": [
    "N = 2  # 問題の次元\n",
    "NPOP = 40\n",
    "NGEN = 50  # 総ステップ数\n",
    "\n",
    "print(\"Method 1.\")\n",
    "\n",
    "creator.create(\"FitnessMin1\", base.Fitness, weights=(-1.0,))\n",
    "creator.create(\"Individual1\", list, fitness=creator.FitnessMin1)\n",
    "strategy = cma.Strategy(centroid=[5.0]*N, sigma=3.0, lambda_=NPOP)  # cnetroid: \"mu\", sigma: \"sigma\"\n",
    "\n",
    "toolbox = base.Toolbox()\n",
    "toolbox.register(\"generate\", strategy.generate, creator.Individual1)\n",
    "toolbox.register(\"update\", strategy.update)\n",
    "toolbox.register(\"evaluate\", benchmarks.rastrigin)\n",
    "\n",
    "print(f\"Individual dimentions: {len(toolbox.generate()[0])}\")\n",
    "print(f\"Number of Individuals: {len(toolbox.generate())}\")\n",
    "print(f\"sample evaluation score: {toolbox.evaluate(toolbox.generate()[0])}\")\n",
    "print(\"\")"
   ]
  },
  {
   "cell_type": "code",
   "execution_count": 14,
   "metadata": {
    "ExecuteTime": {
     "end_time": "2020-04-29T07:51:25.998235Z",
     "start_time": "2020-04-29T07:51:25.986830Z"
    }
   },
   "outputs": [
    {
     "name": "stdout",
     "output_type": "stream",
     "text": [
      "Method 2.\n",
      "Individual dimentions: 2\n",
      "Number of Individuals: 40\n",
      "sample evaluation score: (0.01190629249650561, 0.1960077309211655)\n"
     ]
    }
   ],
   "source": [
    "print(\"Method 2.\")\n",
    "\n",
    "def sample_evaluate(individual):\n",
    "    x1 = individual[0]\n",
    "    x2 = individual[1]\n",
    "    return x1*x2, x1/x2\n",
    "\n",
    "creator.create(\"FitnessMin2\", base.Fitness, weights=(-1.0,-1.0))\n",
    "creator.create(\"Individual2\", list, fitness=creator.FitnessMin2)\n",
    "\n",
    "toolbox = base.Toolbox()\n",
    "\n",
    "toolbox.register(\"attribute\", random.random)\n",
    "toolbox.register(\"individual\", tools.initRepeat, creator.Individual2,\n",
    "                 toolbox.attribute, n=N)\n",
    "toolbox.register(\"population\", tools.initRepeat, list, toolbox.individual, n=NPOP)\n",
    "toolbox.register(\"evaluate\", sample_evaluate)\n",
    "\n",
    "print(f\"Individual dimentions: {len(toolbox.individual())}\")\n",
    "print(f\"Number of Individuals: {len(toolbox.population())}\")\n",
    "print(f\"sample evaluation score: {toolbox.evaluate(toolbox.individual())}\")"
   ]
  },
  {
   "cell_type": "code",
   "execution_count": 25,
   "metadata": {
    "ExecuteTime": {
     "end_time": "2020-04-29T07:55:20.078664Z",
     "start_time": "2020-04-29T07:55:20.073336Z"
    }
   },
   "outputs": [
    {
     "name": "stdout",
     "output_type": "stream",
     "text": [
      "Mutation\n",
      "\n",
      "True\n",
      "False\n"
     ]
    },
    {
     "data": {
      "text/plain": [
       "([0.7691424395768883,\n",
       "  0.29757551377406477,\n",
       "  0.29612788287435476,\n",
       "  0.0179985830635061,\n",
       "  0.9042254324622655],\n",
       " [0.7691424395768883,\n",
       "  0.23478433568023782,\n",
       "  0.29612788287435476,\n",
       "  0.0179985830635061,\n",
       "  0.9042254324622655])"
      ]
     },
     "execution_count": 25,
     "metadata": {},
     "output_type": "execute_result"
    }
   ],
   "source": [
    "print(\"Mutation\\n\")\n",
    "\n",
    "mutant = toolbox.clone(ind1)\n",
    "ind2, = tools.mutGaussian(mutant, mu=0.0, sigma=0.2, indpb=0.2)\n",
    "del mutant.fitness.values\n",
    "\n",
    "print(ind2==mutant)\n",
    "print(mutant==ind1)\n",
    "ind2, ind1"
   ]
  },
  {
   "cell_type": "code",
   "execution_count": 35,
   "metadata": {
    "ExecuteTime": {
     "end_time": "2020-04-29T07:59:25.321058Z",
     "start_time": "2020-04-29T07:59:25.308588Z"
    }
   },
   "outputs": [
    {
     "name": "stdout",
     "output_type": "stream",
     "text": [
      "Crossover\n",
      "\n"
     ]
    },
    {
     "data": {
      "text/plain": [
       "([0.7691424395768883,\n",
       "  0.23478433568023782,\n",
       "  0.29612788287435476,\n",
       "  0.0179985830635061,\n",
       "  0.9042254324622655],\n",
       " [0.7691424395768883,\n",
       "  0.29757551377406477,\n",
       "  0.29612788287435476,\n",
       "  0.0179985830635061,\n",
       "  0.9042254324622655],\n",
       " [0.7691424395768882,\n",
       "  0.29292645151053304,\n",
       "  0.29612788287435476,\n",
       "  0.0179985830635061,\n",
       "  0.9042254324622655],\n",
       " [0.7691424395768882,\n",
       "  0.2394333979437696,\n",
       "  0.29612788287435476,\n",
       "  0.0179985830635061,\n",
       "  0.9042254324622655])"
      ]
     },
     "execution_count": 35,
     "metadata": {},
     "output_type": "execute_result"
    }
   ],
   "source": [
    "print(\"Crossover\\n\")\n",
    "\n",
    "child1, child2 = [toolbox.clone(ind) for ind in (ind1, ind2)]\n",
    "tools.cxBlend(child1, child2, 0.5)\n",
    "del child1.fitness.values\n",
    "del child2.fitness.values\n",
    "\n",
    "ind1, ind2, child1, child2"
   ]
  },
  {
   "cell_type": "code",
   "execution_count": 43,
   "metadata": {
    "ExecuteTime": {
     "end_time": "2020-04-29T08:03:33.219552Z",
     "start_time": "2020-04-29T08:03:33.211818Z"
    }
   },
   "outputs": [
    {
     "name": "stdout",
     "output_type": "stream",
     "text": [
      "Selection\n",
      "\n"
     ]
    },
    {
     "data": {
      "text/plain": [
       "[[0.7691424395768882,\n",
       "  0.29292645151053304,\n",
       "  0.29612788287435476,\n",
       "  0.0179985830635061,\n",
       "  0.9042254324622655],\n",
       " [0.7691424395768882,\n",
       "  0.2394333979437696,\n",
       "  0.29612788287435476,\n",
       "  0.0179985830635061,\n",
       "  0.9042254324622655]]"
      ]
     },
     "execution_count": 43,
     "metadata": {},
     "output_type": "execute_result"
    }
   ],
   "source": [
    "print(\"Selection\\n\")\n",
    "\n",
    "selected = tools.selBest([child1, child2], 2)\n",
    "selected"
   ]
  },
  {
   "cell_type": "code",
   "execution_count": null,
   "metadata": {},
   "outputs": [],
   "source": [
    "def evaluateInd(individual):\n",
    "    # 何かの計算する\n",
    "    return result,\n",
    "\n",
    "toolbox.register(\"mate\", tools.cxTwoPoint)\n",
    "toolbox.register(\"mutate\", tools.mutGaussian, mu=0, sigma=1, indpb=0.2)\n",
    "toolbox.register(\"select\", tools.selTournament, tournsize=3)\n",
    "toolbox.register(\"evaluate\", evaluateInd)"
   ]
  },
  {
   "cell_type": "code",
   "execution_count": 44,
   "metadata": {
    "ExecuteTime": {
     "end_time": "2020-04-29T08:04:14.847829Z",
     "start_time": "2020-04-29T08:04:14.830965Z"
    }
   },
   "outputs": [],
   "source": [
    "# Use Method 1\n",
    "\n",
    "def main():\n",
    "    numpy.random.seed(64)\n",
    "\n",
    "    # The CMA-ES algorithm \n",
    "    strategy = cma.Strategy(centroid=[5.0]*N, sigma=3.0, lambda_=20*N)\n",
    "    toolbox.register(\"generate\", strategy.generate, creator.Individual)\n",
    "    toolbox.register(\"update\", strategy.update)\n",
    "\n",
    "    halloffame = tools.HallOfFame(1)\n",
    "\n",
    "    halloffame_array = []\n",
    "    C_array = []\n",
    "    centroid_array = []\n",
    "    for gen in range(NGEN):\n",
    "        # 新たな世代の個体群を生成\n",
    "        population = toolbox.generate()\n",
    "        # 個体群の評価\n",
    "        fitnesses = toolbox.map(toolbox.evaluate, population)\n",
    "        for ind, fit in zip(population, fitnesses):\n",
    "            ind.fitness.values = fit\n",
    "\n",
    "        # 個体群の評価から次世代の計算のためのパラメタ更新\n",
    "        toolbox.update(population)\n",
    "\n",
    "        # hall-of-fameの更新\n",
    "        halloffame.update(population)\n",
    "\n",
    "        halloffame_array.append(halloffame[0])\n",
    "        C_array.append(strategy.C)\n",
    "        centroid_array.append(strategy.centroid)\n",
    "\n",
    "    # 計算結果を描画\n",
    "    import matplotlib.pyplot as plt\n",
    "    import matplotlib.cm as cm\n",
    "    from matplotlib.patches import Ellipse\n",
    "    plt.ion()\n",
    "    fig = plt.figure()\n",
    "    ax = fig.add_subplot(111)\n",
    "    X = numpy.arange(-5.12, 5.12, 0.1)\n",
    "    Y = numpy.arange(-5.12, 5.12, 0.1)\n",
    "    X, Y = numpy.meshgrid(X, Y)\n",
    "    Z = [[benchmarks.rastrigin((x, y))[0] for x, y in zip(xx, yy)]\n",
    "         for xx, yy in zip(X, Y)]\n",
    "    ax.imshow(Z, cmap=cm.jet, extent=[-5.12, 5.12, -5.12, 5.12])\n",
    "    for x, sigma, xmean in zip(halloffame_array, C_array, centroid_array):\n",
    "        # 多変量分布の分散を楕円で描画\n",
    "        Darray, Bmat = numpy.linalg.eigh(sigma)\n",
    "        ax.add_artist(Ellipse((xmean[0], xmean[1]),\n",
    "                              numpy.sqrt(Darray[0]),\n",
    "                              numpy.sqrt(Darray[1]),\n",
    "                              numpy.arctan2(Bmat[1, 0], Bmat[0, 0]) * 180 / numpy.pi,\n",
    "                              color=\"g\",\n",
    "                              alpha=0.7))\n",
    "        ax.plot([x[0]], [x[1]], c='r', marker='o')\n",
    "        ax.axis([-5.12, 5.12, -5.12, 5.12])\n",
    "        plt.draw()\n",
    "    plt.show(block=True)"
   ]
  },
  {
   "cell_type": "code",
   "execution_count": 47,
   "metadata": {
    "ExecuteTime": {
     "end_time": "2020-04-29T08:04:37.378528Z",
     "start_time": "2020-04-29T08:04:35.830680Z"
    }
   },
   "outputs": [
    {
     "data": {
      "image/png": "[encoded data removed]",
      "text/plain": [
       "<Figure size 432x288 with 1 Axes>"
      ]
     },
     "metadata": {
      "needs_background": "light"
     },
     "output_type": "display_data"
    }
   ],
   "source": [
    "if __name__ == \"__main__\":\n",
    "    main()"
   ]
  }
 ],
 "metadata": {
  "kernelspec": {
   "display_name": "Python 3",
   "language": "python",
   "name": "python3"
  },
  "language_info": {
   "codemirror_mode": {
    "name": "ipython",
    "version": 3
   },
   "file_extension": ".py",
   "mimetype": "text/x-python",
   "name": "python",
   "nbconvert_exporter": "python",
   "pygments_lexer": "ipython3",
   "version": "3.7.3"
  },
  "toc": {
   "base_numbering": 1,
   "nav_menu": {},
   "number_sections": true,
   "sideBar": true,
   "skip_h1_title": false,
   "title_cell": "Table of Contents",
   "title_sidebar": "Contents",
   "toc_cell": false,
   "toc_position": {},
   "toc_section_display": true,
   "toc_window_display": false
  }
 },
 "nbformat": 4,
 "nbformat_minor": 4
}
