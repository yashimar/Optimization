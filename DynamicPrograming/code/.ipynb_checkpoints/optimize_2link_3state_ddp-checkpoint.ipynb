{
 "cells": [
  {
   "cell_type": "code",
   "execution_count": 516,
   "metadata": {
    "ExecuteTime": {
     "end_time": "2020-05-01T08:19:51.247668Z",
     "start_time": "2020-05-01T08:19:51.244674Z"
    }
   },
   "outputs": [],
   "source": [
    "import numpy as np\n",
    "import matplotlib.pyplot as plt\n",
    "from copy import deepcopy\n",
    "import pandas as pd\n",
    "from math import sin, cos\n",
    "\n",
    "import torch\n",
    "from torch.autograd import grad\n",
    "\n",
    "import sys\n",
    "sys.path.append(\"../../../modules/\")\n",
    "# from simpleDDP import *\n",
    "import sim2d2link as sim"
   ]
  },
  {
   "cell_type": "code",
   "execution_count": 517,
   "metadata": {
    "ExecuteTime": {
     "end_time": "2020-05-01T08:19:52.215410Z",
     "start_time": "2020-05-01T08:19:52.206297Z"
    }
   },
   "outputs": [],
   "source": [
    "def additional_move(a):\n",
    "    return a\n",
    "\n",
    "def f(x, a):\n",
    "    return x+additional_move(a)\n",
    "\n",
    "def x2p(x1, x2):\n",
    "    p1 = torch.cos(x1) + torch.cos(x1+x2)\n",
    "    p2 = torch.sin(x1) + torch.sin(x1+x2)\n",
    "    return p1, p2\n",
    "\n",
    "def r(x1, x2, p_true):\n",
    "    p1, p2 = x2p(x1, x2)\n",
    "    cost = (p1-p_true[0])**2 + (p2-p_true[1])**2\n",
    "    return cost"
   ]
  },
  {
   "cell_type": "code",
   "execution_count": 518,
   "metadata": {
    "ExecuteTime": {
     "end_time": "2020-05-01T08:19:52.515612Z",
     "start_time": "2020-05-01T08:19:52.506793Z"
    }
   },
   "outputs": [
    {
     "data": {
      "text/plain": [
       "tensor([7.3337])"
      ]
     },
     "execution_count": 518,
     "metadata": {},
     "output_type": "execute_result"
    }
   ],
   "source": [
    "init_value = torch.ones(1)*1.\n",
    "np_true = node(torch.ones(2,1)*3.)\n",
    "nx01, nx02 = node(init_value), node(init_value)\n",
    "na01, na02 = node(init_value), node(init_value)\n",
    "ex01, ex02 = f(nx01, na01), f(nx02, na02)\n",
    "r0 = r(ex01, ex02, np_true)\n",
    "grad(r0, nx01)[0]\n",
    "# nx01.grad"
   ]
  },
  {
   "cell_type": "code",
   "execution_count": 519,
   "metadata": {
    "ExecuteTime": {
     "end_time": "2020-05-01T08:19:52.806201Z",
     "start_time": "2020-05-01T08:19:52.800642Z"
    }
   },
   "outputs": [],
   "source": [
    "def init_state(N, init_x):\n",
    "    one = torch.ones(1)*1.\n",
    "    zero = torch.zeros(1)\n",
    "\n",
    "    nx = [[node(zero) for j in range(2)] for i in range(N+1)]\n",
    "    ex = [[node(zero) for j in range(2)] for i in range(N)]\n",
    "    er = [node(zero) for i in range(N+1)]\n",
    "\n",
    "    fx = [torch.zeros(2, 2) for i in range(N)]\n",
    "    fa = [torch.zeros(2, 2) for i in range(N)]\n",
    "    rx = [torch.zeros(2, 1) for i in range(N+1)]\n",
    "    sigma = [torch.zeros(2, 1) for i in range(N+1)]\n",
    "    ja = [torch.zeros(2, 1) for i in range(N)]\n",
    "    \n",
    "    return nx, ex, er, fx, fa, rx, sigma, ja"
   ]
  },
  {
   "cell_type": "code",
   "execution_count": 520,
   "metadata": {
    "ExecuteTime": {
     "end_time": "2020-05-01T08:19:53.272088Z",
     "start_time": "2020-05-01T08:19:53.265888Z"
    }
   },
   "outputs": [],
   "source": [
    "def record(nx, ex, na, er, fx, fa, rx, sigma, ja, item_only=True):    \n",
    "    df = pd.DataFrame({\"nx\": nx,\"ex\":ex+[[\"\"]],\"na\":na+[[\"\"]],\"er\":er,\"fx\":fx+[[\"\"]],\"fa\":fa+[[\"\"]],\n",
    "                                     \"rx\":rx,\"sigma\":sigma,\"ja\":ja+[[\"\"]]})\n",
    "#     if item_only: df=df.applymap(lambda x: x[0].item() if x[0]!=\"\" else np.nan)\n",
    "        \n",
    "    return df"
   ]
  },
  {
   "cell_type": "code",
   "execution_count": 521,
   "metadata": {
    "ExecuteTime": {
     "end_time": "2020-05-01T08:19:53.713867Z",
     "start_time": "2020-05-01T08:19:53.700711Z"
    }
   },
   "outputs": [],
   "source": [
    "def solve(f, r, n_roop, time_length, p_trues, eta=0.01, init_x=torch.zeros(2,1), adim=2, init_a_range=2.0, clip_a_value=None, mode_ascent=True, item_only=True, stack_log=False):\n",
    "    N = time_length\n",
    "    na = [[node(torch.empty(1).uniform_(-init_a_range, init_a_range)) for j in range(adim)] for i in range(N)]\n",
    "    logs = []\n",
    "    for roop in range(n_roop):\n",
    "        if stack_log: logs.append(record(nx, ex, na, er, fx, fa, rx, sigma, ja, item_only=item_only))\n",
    "        nx, ex, er, fx, fa, rx, sigma, ja = init_state(N, init_x)\n",
    "        forward(f, r, nx, ex, na, fx, fa, er, rx, p_trues)\n",
    "        backward(na, fx, fa, rx, sigma, ja, eta, clip_a_value, mode_ascent)\n",
    "     \n",
    "    logs.append(record(nx, ex, na, er, fx, fa, rx, sigma, ja, item_only=item_only))\n",
    "    return logs"
   ]
  },
  {
   "cell_type": "code",
   "execution_count": 522,
   "metadata": {
    "ExecuteTime": {
     "end_time": "2020-05-01T08:19:54.189745Z",
     "start_time": "2020-05-01T08:19:54.176402Z"
    }
   },
   "outputs": [],
   "source": [
    "def forward(f, r, nx, ex, na, fx, fa, er, rx, p_trues):\n",
    "    N = len(na)\n",
    "    for i in range(N):\n",
    "        p_true = p_trues[i]\n",
    "        for j in range(2):\n",
    "            ex[i][j] = f(nx[i][j], na[i][j])\n",
    "            nx[i+1][j] = node(ex[i][j])\n",
    "        er[i+1] = r(nx[i+1][0], nx[i+1][1], p_true)\n",
    "        for j in range(2):\n",
    "            rx[i+1][j] = grad(er[i+1], nx[i+1][j], retain_graph=True)[0]\n",
    "            for k in range(2):\n",
    "                fx[i][j][k] = grad(ex[i][k], nx[i][j], allow_unused=True)[0] if grad(ex[i][k], nx[i][j], allow_unused=True)[0] != None else 0\n",
    "                fa[i][j][k] = grad(ex[i][k], na[i][j], allow_unused=True)[0] if grad(ex[i][k], na[i][j], allow_unused=True)[0] != None else 0"
   ]
  },
  {
   "cell_type": "code",
   "execution_count": 523,
   "metadata": {
    "ExecuteTime": {
     "end_time": "2020-05-01T08:19:54.802166Z",
     "start_time": "2020-05-01T08:19:54.796912Z"
    }
   },
   "outputs": [],
   "source": [
    "def backward(na, fx, fa, rx, sigma, ja, eta, clip_a_value, mode_ascent):\n",
    "    N = len(fx)\n",
    "    for i in range(N-1,-1,-1):\n",
    "        sigma[i] = fx[i+1]@sigma[i+1]+rx[i+1] if i!=N-1 else rx[i+1]\n",
    "        ja[i] = fa[i]@sigma[i]\n",
    "        na[i] = optimize(na[i], ja[i], eta, clip_a_value, mode_ascent)"
   ]
  },
  {
   "cell_type": "code",
   "execution_count": 524,
   "metadata": {
    "ExecuteTime": {
     "end_time": "2020-05-01T08:19:55.280420Z",
     "start_time": "2020-05-01T08:19:55.272359Z"
    }
   },
   "outputs": [],
   "source": [
    "def optimize(na, ja, eta, clip_a_value, mode_ascent):\n",
    "    next_na = [a + b for a, b in zip(na, list(eta*ja))] if mode_ascent else [a - b for a, b in zip(na, list(eta*ja))]\n",
    "    if clip_a_value!=None: next_na = torch.clamp(next_na, -clip_a_value, clip_a_value)\n",
    "        \n",
    "    return next_na"
   ]
  },
  {
   "cell_type": "code",
   "execution_count": null,
   "metadata": {
    "ExecuteTime": {
     "start_time": "2020-05-01T08:30:39.702Z"
    }
   },
   "outputs": [],
   "source": [
    "p_trues = [torch.tensor([[1.], [1.]]), torch.tensor([[0.], [2.]]), torch.tensor([[-1.], [1.]])]\n",
    "\n",
    "logs = solve(\n",
    "    f, r, time_length=3, adim=2, \n",
    "    p_trues=p_trues, eta=5e-2, n_roop=1000, \n",
    "    mode_ascent=False)\n",
    "logs[-1]"
   ]
  },
  {
   "cell_type": "code",
   "execution_count": null,
   "metadata": {
    "ExecuteTime": {
     "start_time": "2020-05-01T08:30:40.006Z"
    }
   },
   "outputs": [],
   "source": [
    "command = []\n",
    "for i in range(3):\n",
    "    for j in range(2):\n",
    "        command.append(logs[-1].na[i][j].item())"
   ]
  },
  {
   "cell_type": "code",
   "execution_count": null,
   "metadata": {
    "ExecuteTime": {
     "start_time": "2020-05-01T08:30:40.455Z"
    }
   },
   "outputs": [],
   "source": [
    "sim.draw(command, save_path=\"../logs/2link3state_ddp.gif\")"
   ]
  }
 ],
 "metadata": {
  "kernelspec": {
   "display_name": "Python 3",
   "language": "python",
   "name": "python3"
  },
  "language_info": {
   "codemirror_mode": {
    "name": "ipython",
    "version": 3
   },
   "file_extension": ".py",
   "mimetype": "text/x-python",
   "name": "python",
   "nbconvert_exporter": "python",
   "pygments_lexer": "ipython3",
   "version": "3.7.3"
  },
  "toc": {
   "base_numbering": 1,
   "nav_menu": {},
   "number_sections": true,
   "sideBar": true,
   "skip_h1_title": false,
   "title_cell": "Table of Contents",
   "title_sidebar": "Contents",
   "toc_cell": false,
   "toc_position": {},
   "toc_section_display": true,
   "toc_window_display": false
  }
 },
 "nbformat": 4,
 "nbformat_minor": 4
}
