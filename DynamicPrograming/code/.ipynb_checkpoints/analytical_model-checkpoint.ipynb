{
 "cells": [
  {
   "cell_type": "code",
   "execution_count": 1,
   "metadata": {
    "ExecuteTime": {
     "end_time": "2020-04-28T10:59:55.563411Z",
     "start_time": "2020-04-28T10:59:54.855758Z"
    }
   },
   "outputs": [],
   "source": [
    "import numpy as np\n",
    "import matplotlib.pyplot as plt\n",
    "from copy import deepcopy\n",
    "import pandas as pd\n",
    "\n",
    "import torch\n",
    "from torch.autograd import grad\n",
    "\n",
    "import sys\n",
    "sys.path.append(\"../modules/\")\n",
    "from simpleDDP import solve"
   ]
  },
  {
   "cell_type": "code",
   "execution_count": 360,
   "metadata": {
    "ExecuteTime": {
     "end_time": "2020-04-28T12:45:05.317887Z",
     "start_time": "2020-04-28T12:45:05.172950Z"
    }
   },
   "outputs": [
    {
     "data": {
      "text/plain": [
       "[<matplotlib.lines.Line2D at 0x7f5922ce59b0>]"
      ]
     },
     "execution_count": 360,
     "metadata": {},
     "output_type": "execute_result"
    },
    {
     "data": {
      "image/png": "[encoded data removed]",
      "text/plain": [
       "<Figure size 432x288 with 1 Axes>"
      ]
     },
     "metadata": {
      "needs_background": "light"
     },
     "output_type": "display_data"
    }
   ],
   "source": [
    "def additional_move(a):\n",
    "    return 5.*torch.sin(a)\n",
    "\n",
    "def f(x, a):\n",
    "    return x+additional_move(a)\n",
    "\n",
    "def r(x, mu=0, sigma=0.03):\n",
    "    return 1/(np.sqrt(2*np.pi*sigma**2))*torch.exp(-(x-mu)**2/2*sigma**2)*10\n",
    "#     return x**2\n",
    "\n",
    "x = torch.tensor(np.arange(-100,100,1))\n",
    "y = r(x)\n",
    "plt.plot(x,y)"
   ]
  },
  {
   "cell_type": "code",
   "execution_count": 377,
   "metadata": {
    "ExecuteTime": {
     "end_time": "2020-04-28T12:46:14.301847Z",
     "start_time": "2020-04-28T12:46:14.023500Z"
    }
   },
   "outputs": [],
   "source": [
    "logs = solve(\n",
    "                f, r, n_roop=100, time_length=5, mode_ascent=True, \n",
    "                eta=5e-3, init_x=40, init_a_range=0., clip_a_value=None, \n",
    "                stack_log=False)"
   ]
  },
  {
   "cell_type": "code",
   "execution_count": 378,
   "metadata": {
    "ExecuteTime": {
     "end_time": "2020-04-28T12:46:14.745666Z",
     "start_time": "2020-04-28T12:46:14.733010Z"
    }
   },
   "outputs": [
    {
     "data": {
      "text/html": [
       "<div>\n",
       "<style scoped>\n",
       "    .dataframe tbody tr th:only-of-type {\n",
       "        vertical-align: middle;\n",
       "    }\n",
       "\n",
       "    .dataframe tbody tr th {\n",
       "        vertical-align: top;\n",
       "    }\n",
       "\n",
       "    .dataframe thead th {\n",
       "        text-align: right;\n",
       "    }\n",
       "</style>\n",
       "<table border=\"1\" class=\"dataframe\">\n",
       "  <thead>\n",
       "    <tr style=\"text-align: right;\">\n",
       "      <th></th>\n",
       "      <th>nx</th>\n",
       "      <th>ex</th>\n",
       "      <th>na</th>\n",
       "      <th>er</th>\n",
       "      <th>fx</th>\n",
       "      <th>fa</th>\n",
       "      <th>rx</th>\n",
       "      <th>sigma</th>\n",
       "      <th>ja</th>\n",
       "    </tr>\n",
       "  </thead>\n",
       "  <tbody>\n",
       "    <tr>\n",
       "      <th>0</th>\n",
       "      <td>40.000000</td>\n",
       "      <td>35.000000</td>\n",
       "      <td>-1.570796</td>\n",
       "      <td>0.000000</td>\n",
       "      <td>1.0</td>\n",
       "      <td>9.735359e-07</td>\n",
       "      <td>0.000000</td>\n",
       "      <td>-10.688931</td>\n",
       "      <td>-0.000010</td>\n",
       "    </tr>\n",
       "    <tr>\n",
       "      <th>1</th>\n",
       "      <td>35.000000</td>\n",
       "      <td>30.000000</td>\n",
       "      <td>-1.570796</td>\n",
       "      <td>76.627380</td>\n",
       "      <td>1.0</td>\n",
       "      <td>9.735359e-07</td>\n",
       "      <td>-2.413762</td>\n",
       "      <td>-8.275169</td>\n",
       "      <td>-0.000008</td>\n",
       "    </tr>\n",
       "    <tr>\n",
       "      <th>2</th>\n",
       "      <td>30.000000</td>\n",
       "      <td>25.000000</td>\n",
       "      <td>-1.570796</td>\n",
       "      <td>88.695076</td>\n",
       "      <td>1.0</td>\n",
       "      <td>1.569582e-06</td>\n",
       "      <td>-2.394767</td>\n",
       "      <td>-5.880402</td>\n",
       "      <td>-0.000009</td>\n",
       "    </tr>\n",
       "    <tr>\n",
       "      <th>3</th>\n",
       "      <td>25.000000</td>\n",
       "      <td>20.000000</td>\n",
       "      <td>-1.570684</td>\n",
       "      <td>100.379143</td>\n",
       "      <td>1.0</td>\n",
       "      <td>6.190737e-04</td>\n",
       "      <td>-2.258531</td>\n",
       "      <td>-3.621871</td>\n",
       "      <td>-0.002242</td>\n",
       "    </tr>\n",
       "    <tr>\n",
       "      <th>4</th>\n",
       "      <td>20.000000</td>\n",
       "      <td>15.001772</td>\n",
       "      <td>-1.545250</td>\n",
       "      <td>111.074867</td>\n",
       "      <td>1.0</td>\n",
       "      <td>1.331170e-01</td>\n",
       "      <td>-1.999347</td>\n",
       "      <td>-1.622524</td>\n",
       "      <td>-0.215986</td>\n",
       "    </tr>\n",
       "    <tr>\n",
       "      <th>5</th>\n",
       "      <td>15.001772</td>\n",
       "      <td>NaN</td>\n",
       "      <td>NaN</td>\n",
       "      <td>120.172775</td>\n",
       "      <td>NaN</td>\n",
       "      <td>NaN</td>\n",
       "      <td>-1.622524</td>\n",
       "      <td>0.000000</td>\n",
       "      <td>NaN</td>\n",
       "    </tr>\n",
       "  </tbody>\n",
       "</table>\n",
       "</div>"
      ],
      "text/plain": [
       "          nx         ex        na          er   fx            fa        rx  \\\n",
       "0  40.000000  35.000000 -1.570796    0.000000  1.0  9.735359e-07  0.000000   \n",
       "1  35.000000  30.000000 -1.570796   76.627380  1.0  9.735359e-07 -2.413762   \n",
       "2  30.000000  25.000000 -1.570796   88.695076  1.0  1.569582e-06 -2.394767   \n",
       "3  25.000000  20.000000 -1.570684  100.379143  1.0  6.190737e-04 -2.258531   \n",
       "4  20.000000  15.001772 -1.545250  111.074867  1.0  1.331170e-01 -1.999347   \n",
       "5  15.001772        NaN       NaN  120.172775  NaN           NaN -1.622524   \n",
       "\n",
       "       sigma        ja  \n",
       "0 -10.688931 -0.000010  \n",
       "1  -8.275169 -0.000008  \n",
       "2  -5.880402 -0.000009  \n",
       "3  -3.621871 -0.002242  \n",
       "4  -1.622524 -0.215986  \n",
       "5   0.000000       NaN  "
      ]
     },
     "execution_count": 378,
     "metadata": {},
     "output_type": "execute_result"
    }
   ],
   "source": [
    "logs[-1]"
   ]
  },
  {
   "cell_type": "code",
   "execution_count": 107,
   "metadata": {
    "ExecuteTime": {
     "end_time": "2020-04-28T11:56:23.389411Z",
     "start_time": "2020-04-28T11:56:23.229600Z"
    }
   },
   "outputs": [
    {
     "data": {
      "image/png": "[encoded data removed]",
      "text/plain": [
       "<Figure size 504x360 with 1 Axes>"
      ]
     },
     "metadata": {
      "needs_background": "light"
     },
     "output_type": "display_data"
    }
   ],
   "source": [
    "logs_x = [np.array([logs[i].nx[j] for i in range(len(logs))]) for j in range(len(logs[0]-1))]\n",
    "\n",
    "fig = plt.figure(figsize=(7,5))\n",
    "plt.axvline(130,c=\"white\")\n",
    "for i in range(1,len(logs[0])):\n",
    "    plt.plot(logs_x[i], label=f\"x{i}\")\n",
    "plt.grid()\n",
    "plt.legend(loc=\"upper right\")\n",
    "plt.xlabel(\"iterations\")\n",
    "plt.ylabel(\"state x\")\n",
    "plt.show()"
   ]
  },
  {
   "cell_type": "code",
   "execution_count": 7,
   "metadata": {
    "ExecuteTime": {
     "end_time": "2020-04-28T05:57:31.270335Z",
     "start_time": "2020-04-28T05:57:31.113753Z"
    }
   },
   "outputs": [
    {
     "data": {
      "text/plain": [
       "<matplotlib.lines.Line2D at 0x7f7516583da0>"
      ]
     },
     "execution_count": 7,
     "metadata": {},
     "output_type": "execute_result"
    },
    {
     "data": {
      "image/png": "[encoded data removed]",
      "text/plain": [
       "<Figure size 432x288 with 1 Axes>"
      ]
     },
     "metadata": {
      "needs_background": "light"
     },
     "output_type": "display_data"
    }
   ],
   "source": [
    "sums = np.array([logs[i].er.sum() for i in range(len(logs))])\n",
    "plt.xlabel(\"iterations\")\n",
    "# plt.ylabel(\"total reward or cost (log scale)\")\n",
    "# plt.plot(np.log(sums))\n",
    "plt.ylabel(\"total reward or cost\")\n",
    "plt.plot(sums)\n",
    "plt.axhline(0,c=\"r\")"
   ]
  }
 ],
 "metadata": {
  "kernelspec": {
   "display_name": "Python 3",
   "language": "python",
   "name": "python3"
  },
  "language_info": {
   "codemirror_mode": {
    "name": "ipython",
    "version": 3
   },
   "file_extension": ".py",
   "mimetype": "text/x-python",
   "name": "python",
   "nbconvert_exporter": "python",
   "pygments_lexer": "ipython3",
   "version": "3.7.3"
  },
  "toc": {
   "base_numbering": 1,
   "nav_menu": {},
   "number_sections": true,
   "sideBar": true,
   "skip_h1_title": false,
   "title_cell": "Table of Contents",
   "title_sidebar": "Contents",
   "toc_cell": false,
   "toc_position": {},
   "toc_section_display": true,
   "toc_window_display": false
  }
 },
 "nbformat": 4,
 "nbformat_minor": 4
}
