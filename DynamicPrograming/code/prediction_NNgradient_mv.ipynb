{
 "cells": [
  {
   "cell_type": "code",
   "execution_count": 1,
   "metadata": {
    "ExecuteTime": {
     "end_time": "2020-04-28T10:02:09.773792Z",
     "start_time": "2020-04-28T10:02:08.645086Z"
    }
   },
   "outputs": [
    {
     "name": "stdout",
     "output_type": "stream",
     "text": [
      "device :  cuda\n",
      "num gpu :  4\n"
     ]
    }
   ],
   "source": [
    "import os\n",
    "import random\n",
    "import math\n",
    "import time\n",
    "import matplotlib.pyplot as plt\n",
    "import pandas as pd\n",
    "import numpy as np\n",
    "from scipy import special\n",
    "from scipy.interpolate import griddata\n",
    "from mpl_toolkits.mplot3d import Axes3D\n",
    "import matplotlib.pyplot as plt\n",
    "import plotly\n",
    "import plotly.graph_objs as go\n",
    "\n",
    "\n",
    "import torch \n",
    "import torch.utils.data as data\n",
    "import torch.nn as nn\n",
    "import torch.nn.functional as F\n",
    "import torch.optim as optim\n",
    "from torch.autograd import grad\n",
    "\n",
    "from torchvision import transforms\n",
    "from torchsummary import summary\n",
    "from visdom import Visdom\n",
    "\n",
    "import sys\n",
    "sys.path.append(\"../modules/\")\n",
    "import helper as hp"
   ]
  },
  {
   "cell_type": "code",
   "execution_count": 2,
   "metadata": {
    "ExecuteTime": {
     "end_time": "2020-04-28T10:02:09.779287Z",
     "start_time": "2020-04-28T10:02:09.775533Z"
    }
   },
   "outputs": [
    {
     "name": "stdout",
     "output_type": "stream",
     "text": [
      "device :  cuda\n",
      "num gpu :  4\n"
     ]
    }
   ],
   "source": [
    "import os\n",
    "os.environ[\"CUDA_VISIBLE_DEVICES\"]=\"0,1,2,3\"\n",
    "device = 'cuda' if torch.cuda.is_available() else 'cpu'\n",
    "# device = torch.device('cuda') \n",
    "print('device : ', device)\n",
    "print('num gpu : ', torch.cuda.device_count())"
   ]
  },
  {
   "cell_type": "code",
   "execution_count": 3,
   "metadata": {
    "ExecuteTime": {
     "end_time": "2020-04-28T10:02:09.820660Z",
     "start_time": "2020-04-28T10:02:09.780522Z"
    }
   },
   "outputs": [],
   "source": [
    "class VaseDataset(data.Dataset):\n",
    "    \n",
    "    def __init__(self, length=100, width1=1, width2=1, error_range=0, x1_divide=1.0, x2_divide=1.0, y_divide=1.0, seed=None):\n",
    "        if seed!=None:\n",
    "            torch.manual_seed(seed)\n",
    "            np.random.seed(seed)\n",
    "            random.seed(seed)\n",
    "        \n",
    "        self.length = length\n",
    "        x1 = torch.empty(length, 1).uniform_(-width1,width1)\n",
    "        x2 = torch.empty(length, 1).uniform_(-width2,width2)\n",
    "        self.input = torch.cat( (x1/x1_divide, x2/x2_divide), dim=1)\n",
    "        self.output = x1**2 + x2**2 + torch.empty(length, 1).uniform_(-error_range,error_range)/y_divide\n",
    "        \n",
    "    def __len__(self):\n",
    "        return self.length\n",
    "    \n",
    "    def __getitem__(self, index):\n",
    "        x = self.input[index]\n",
    "        y = self.output[index]\n",
    "        \n",
    "        return x, y"
   ]
  },
  {
   "cell_type": "code",
   "execution_count": 4,
   "metadata": {
    "ExecuteTime": {
     "end_time": "2020-04-28T10:02:09.836647Z",
     "start_time": "2020-04-28T10:02:09.822289Z"
    }
   },
   "outputs": [],
   "source": [
    "def vase_function(x1, x2):\n",
    "    return x1**2+x2**2\n",
    "    \n",
    "# hp.plot3D(true_function=vase_function)"
   ]
  },
  {
   "cell_type": "code",
   "execution_count": 5,
   "metadata": {
    "ExecuteTime": {
     "end_time": "2020-04-28T10:02:12.746660Z",
     "start_time": "2020-04-28T10:02:09.837839Z"
    },
    "scrolled": true
   },
   "outputs": [
    {
     "name": "stdout",
     "output_type": "stream",
     "text": [
      "VaseRegressor(\n",
      "  (layer1): Linear(in_features=2, out_features=200, bias=True)\n",
      "  (layer2): Linear(in_features=200, out_features=200, bias=True)\n",
      "  (last): Linear(in_features=200, out_features=1, bias=True)\n",
      "  (dropout): Dropout(p=0.01, inplace=False)\n",
      ")\n",
      "----------------------------------------------------------------\n",
      "        Layer (type)               Output Shape         Param #\n",
      "================================================================\n",
      "            Linear-1              [-1, 32, 200]             600\n",
      "           Dropout-2              [-1, 32, 200]               0\n",
      "            Linear-3              [-1, 32, 200]          40,200\n",
      "           Dropout-4              [-1, 32, 200]               0\n",
      "            Linear-5                [-1, 32, 1]             201\n",
      "================================================================\n",
      "Total params: 41,001\n",
      "Trainable params: 41,001\n",
      "Non-trainable params: 0\n",
      "----------------------------------------------------------------\n",
      "Input size (MB): 0.00\n",
      "Forward/backward pass size (MB): 0.20\n",
      "Params size (MB): 0.16\n",
      "Estimated Total Size (MB): 0.35\n",
      "----------------------------------------------------------------\n"
     ]
    }
   ],
   "source": [
    "class VaseRegressor(hp.BasicRegressor):\n",
    "    \n",
    "    def __init__(self):\n",
    "        super(VaseRegressor, self).__init__()\n",
    "        self.layer1 = nn.Linear(2, 200)\n",
    "\n",
    "sample_net = VaseRegressor().to(device)\n",
    "print(sample_net)\n",
    "summary(sample_net, (32,2))"
   ]
  },
  {
   "cell_type": "code",
   "execution_count": 11,
   "metadata": {
    "ExecuteTime": {
     "end_time": "2020-04-28T10:04:21.859420Z",
     "start_time": "2020-04-28T10:04:11.871349Z"
    },
    "scrolled": true
   },
   "outputs": [
    {
     "name": "stdout",
     "output_type": "stream",
     "text": [
      "-------------\n",
      "Epoch 1/20\n",
      "Loss:0.0329 \n",
      "timer:  0.5410 sec.\n",
      "-------------\n",
      "Epoch 2/20\n",
      "Loss:0.0010 \n",
      "timer:  0.4459 sec.\n",
      "-------------\n",
      "Epoch 3/20\n",
      "Loss:0.0005 \n",
      "timer:  0.5690 sec.\n",
      "-------------\n",
      "Epoch 4/20\n",
      "Loss:0.0003 \n",
      "timer:  0.4425 sec.\n",
      "-------------\n",
      "Epoch 5/20\n",
      "Loss:0.0003 \n",
      "timer:  0.5363 sec.\n",
      "-------------\n",
      "Epoch 6/20\n",
      "Loss:0.0002 \n",
      "timer:  0.4769 sec.\n",
      "-------------\n",
      "Epoch 7/20\n",
      "Loss:0.0002 \n",
      "timer:  0.4669 sec.\n",
      "-------------\n",
      "Epoch 8/20\n",
      "Loss:0.0002 \n",
      "timer:  0.5653 sec.\n",
      "-------------\n",
      "Epoch 9/20\n",
      "Loss:0.0002 \n",
      "timer:  0.5992 sec.\n",
      "-------------\n",
      "Epoch 10/20\n",
      "Loss:0.0002 \n",
      "timer:  0.4967 sec.\n",
      "-------------\n",
      "Epoch 11/20\n",
      "Loss:0.0002 \n",
      "timer:  0.4821 sec.\n",
      "-------------\n",
      "Epoch 12/20\n",
      "Loss:0.0002 \n",
      "timer:  0.5231 sec.\n",
      "-------------\n",
      "Epoch 13/20\n",
      "Loss:0.0002 \n",
      "timer:  0.4279 sec.\n",
      "-------------\n",
      "Epoch 14/20\n",
      "Loss:0.0002 \n",
      "timer:  0.5696 sec.\n",
      "-------------\n",
      "Epoch 15/20\n",
      "Loss:0.0002 \n",
      "timer:  0.4427 sec.\n",
      "-------------\n",
      "Epoch 16/20\n",
      "Loss:0.0002 \n",
      "timer:  0.4552 sec.\n",
      "-------------\n",
      "Epoch 17/20\n",
      "Loss:0.0002 \n",
      "timer:  0.5213 sec.\n",
      "-------------\n",
      "Epoch 18/20\n",
      "Loss:0.0002 \n",
      "timer:  0.4247 sec.\n",
      "-------------\n",
      "Epoch 19/20\n",
      "Loss:0.0002 \n",
      "timer:  0.5245 sec.\n",
      "-------------\n",
      "Epoch 20/20\n",
      "Loss:0.0002 \n",
      "timer:  0.4640 sec.\n"
     ]
    }
   ],
   "source": [
    "dataset = VaseDataset(length=30000,width1=1.5,width2=1.5)\n",
    "dataloader = torch.utils.data.DataLoader(dataset,batch_size=1024,shuffle=True)\n",
    "\n",
    "model = VaseRegressor()\n",
    "model = hp.train(\n",
    "    model, dataloader,\n",
    "    num_epochs=20,lr=5e-3, \n",
    "    schedule_param={\"mode\":\"min\", \"factor\":0.1, \"patience\":5}, \n",
    "#     save_path=\"../logs/vase_function\",\n",
    "    )"
   ]
  },
  {
   "cell_type": "code",
   "execution_count": 7,
   "metadata": {
    "ExecuteTime": {
     "end_time": "2020-04-28T10:03:00.708569Z",
     "start_time": "2020-04-28T10:03:00.705749Z"
    }
   },
   "outputs": [],
   "source": [
    "# hp.plot3D(model=model, true_function=vase_function)"
   ]
  },
  {
   "cell_type": "code",
   "execution_count": 9,
   "metadata": {
    "ExecuteTime": {
     "end_time": "2020-04-28T10:03:12.468130Z",
     "start_time": "2020-04-28T10:03:12.045273Z"
    }
   },
   "outputs": [
    {
     "data": {
      "image/png": "[encoded data removed]",
      "text/plain": [
       "<Figure size 720x360 with 2 Axes>"
      ]
     },
     "metadata": {
      "needs_background": "light"
     },
     "output_type": "display_data"
    }
   ],
   "source": [
    "length = 100\n",
    "start = -1\n",
    "end = 1\n",
    "waith = end - start\n",
    "val_x = torch.tensor([[i, j] for i in np.arange(start,end,waith/length) for j in np.arange(start,end,waith/length)])\n",
    "val_x1 = val_x[[i for i in range(length*length) if i%length==0],0]\n",
    "val_x2 = val_x[:length,1]\n",
    "pred_y = model(val_x).detach().cpu()\n",
    "\n",
    "fig = plt.figure(figsize=(10,5))\n",
    "pred_y = hp.NNgrad(model, val_x.to(device)).detach().cpu()\n",
    "# pred_fx1, pred_fx2 = pred_y[:,0], pred_y[:,1]\n",
    "pred_fx1 = [pred_y[i,0] for i in range(len(pred_y)) if i%length==0]\n",
    "pred_fx2 = pred_y[:length,1]\n",
    "\n",
    "ax1 = fig.add_subplot(1,2,1)\n",
    "ax1.plot(val_x1, pred_fx1, label=\"predict\")\n",
    "ax1.plot(val_x1, 2*val_x1, label=\"true (f_x1)\")\n",
    "ax1.grid()\n",
    "ax1.legend(loc='upper left')\n",
    "\n",
    "ax2 = fig.add_subplot(1,2,2)\n",
    "ax2.plot(val_x2, pred_fx2, label=\"predict\")\n",
    "ax2.plot(val_x2, 2*val_x2, label=\"true (f_x2)\")\n",
    "ax2.grid()\n",
    "ax2.legend(loc='upper left')\n",
    "\n",
    "fig.show()"
   ]
  }
 ],
 "metadata": {
  "kernelspec": {
   "display_name": "Python 3",
   "language": "python",
   "name": "python3"
  },
  "language_info": {
   "codemirror_mode": {
    "name": "ipython",
    "version": 3
   },
   "file_extension": ".py",
   "mimetype": "text/x-python",
   "name": "python",
   "nbconvert_exporter": "python",
   "pygments_lexer": "ipython3",
   "version": "3.7.3"
  },
  "toc": {
   "base_numbering": 1,
   "nav_menu": {},
   "number_sections": true,
   "sideBar": true,
   "skip_h1_title": false,
   "title_cell": "Table of Contents",
   "title_sidebar": "Contents",
   "toc_cell": false,
   "toc_position": {},
   "toc_section_display": true,
   "toc_window_display": false
  }
 },
 "nbformat": 4,
 "nbformat_minor": 4
}
